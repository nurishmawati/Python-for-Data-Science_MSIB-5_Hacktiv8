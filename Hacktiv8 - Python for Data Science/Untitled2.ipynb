{
 "cells": [
  {
   "cell_type": "markdown",
   "id": "33e37655",
   "metadata": {},
   "source": [
    "## List"
   ]
  },
  {
   "cell_type": "code",
   "execution_count": 1,
   "id": "b967c519",
   "metadata": {},
   "outputs": [],
   "source": [
    "my_list = [1, 2, 3]"
   ]
  },
  {
   "cell_type": "code",
   "execution_count": 2,
   "id": "ea1450d9",
   "metadata": {},
   "outputs": [
    {
     "name": "stdout",
     "output_type": "stream",
     "text": [
      "[1, 2, 3]\n"
     ]
    }
   ],
   "source": [
    "print(my_list)"
   ]
  },
  {
   "cell_type": "code",
   "execution_count": 3,
   "id": "9cd7cf6f",
   "metadata": {},
   "outputs": [
    {
     "data": {
      "text/plain": [
       "[1, 2, 3, 4, 5]"
      ]
     },
     "execution_count": 3,
     "metadata": {},
     "output_type": "execute_result"
    }
   ],
   "source": [
    "my_list + [4, 5]"
   ]
  },
  {
   "cell_type": "code",
   "execution_count": 4,
   "id": "8670623e",
   "metadata": {},
   "outputs": [
    {
     "name": "stdout",
     "output_type": "stream",
     "text": [
      "[1, 2, 3, 1, 2, 3]\n"
     ]
    }
   ],
   "source": [
    "print(my_list * 2)"
   ]
  },
  {
   "cell_type": "code",
   "execution_count": 5,
   "id": "a8d04f62",
   "metadata": {},
   "outputs": [],
   "source": [
    "my_list.append(4)"
   ]
  },
  {
   "cell_type": "code",
   "execution_count": 6,
   "id": "c7df9954",
   "metadata": {},
   "outputs": [
    {
     "name": "stdout",
     "output_type": "stream",
     "text": [
      "[1, 2, 3, 4]\n"
     ]
    }
   ],
   "source": [
    "print(my_list)"
   ]
  },
  {
   "cell_type": "code",
   "execution_count": 7,
   "id": "adf66051",
   "metadata": {},
   "outputs": [],
   "source": [
    "my_list.append([4, 5])"
   ]
  },
  {
   "cell_type": "code",
   "execution_count": 8,
   "id": "f5e2c6e1",
   "metadata": {},
   "outputs": [
    {
     "name": "stdout",
     "output_type": "stream",
     "text": [
      "[1, 2, 3, 4, [4, 5]]\n"
     ]
    }
   ],
   "source": [
    "print(my_list)"
   ]
  },
  {
   "cell_type": "code",
   "execution_count": 9,
   "id": "c3108fcf",
   "metadata": {},
   "outputs": [],
   "source": [
    "mylist = [1, 2, 3]"
   ]
  },
  {
   "cell_type": "code",
   "execution_count": 10,
   "id": "316cc97e",
   "metadata": {},
   "outputs": [
    {
     "name": "stdout",
     "output_type": "stream",
     "text": [
      "[1, 2, 3]\n"
     ]
    }
   ],
   "source": [
    "print(mylist)"
   ]
  },
  {
   "cell_type": "code",
   "execution_count": 11,
   "id": "1a37203c",
   "metadata": {},
   "outputs": [],
   "source": [
    "mylist.extend([4, 5, 6])"
   ]
  },
  {
   "cell_type": "code",
   "execution_count": 12,
   "id": "70cb8ca8",
   "metadata": {},
   "outputs": [
    {
     "name": "stdout",
     "output_type": "stream",
     "text": [
      "[1, 2, 3, 4, 5, 6]\n"
     ]
    }
   ],
   "source": [
    "print(mylist)"
   ]
  },
  {
   "cell_type": "code",
   "execution_count": 13,
   "id": "72d822e0",
   "metadata": {},
   "outputs": [],
   "source": [
    "mylist.remove(4)"
   ]
  },
  {
   "cell_type": "code",
   "execution_count": 14,
   "id": "355bc594",
   "metadata": {},
   "outputs": [
    {
     "name": "stdout",
     "output_type": "stream",
     "text": [
      "[1, 2, 3, 5, 6]\n"
     ]
    }
   ],
   "source": [
    "print(mylist)"
   ]
  },
  {
   "cell_type": "code",
   "execution_count": 15,
   "id": "f03bfa8e",
   "metadata": {},
   "outputs": [
    {
     "name": "stdout",
     "output_type": "stream",
     "text": [
      "[1, 2, 3, 4, [4, 5]]\n"
     ]
    }
   ],
   "source": [
    "print(my_list)"
   ]
  },
  {
   "cell_type": "code",
   "execution_count": 16,
   "id": "742b991f",
   "metadata": {},
   "outputs": [],
   "source": [
    "my_list.remove([4, 5])"
   ]
  },
  {
   "cell_type": "code",
   "execution_count": 17,
   "id": "41221c12",
   "metadata": {},
   "outputs": [
    {
     "name": "stdout",
     "output_type": "stream",
     "text": [
      "[1, 2, 3, 4]\n"
     ]
    }
   ],
   "source": [
    "print(my_list)"
   ]
  },
  {
   "cell_type": "markdown",
   "id": "11a9fa25",
   "metadata": {},
   "source": [
    "## Dictionaries"
   ]
  },
  {
   "cell_type": "code",
   "execution_count": 18,
   "id": "dfbe5cac",
   "metadata": {},
   "outputs": [],
   "source": [
    "student = {}"
   ]
  },
  {
   "cell_type": "code",
   "execution_count": 19,
   "id": "eff502fc",
   "metadata": {},
   "outputs": [],
   "source": [
    "student = {'name': 'Ishma', 'age': '17'}"
   ]
  },
  {
   "cell_type": "code",
   "execution_count": 20,
   "id": "b39476b2",
   "metadata": {},
   "outputs": [],
   "source": [
    "employee = {'cto': {'name': 'ishma', 'age': '17'}}"
   ]
  },
  {
   "cell_type": "code",
   "execution_count": 21,
   "id": "dee9c655",
   "metadata": {},
   "outputs": [],
   "source": [
    "student = dict(name='Billy', age=38)"
   ]
  },
  {
   "cell_type": "code",
   "execution_count": 22,
   "id": "af525477",
   "metadata": {},
   "outputs": [
    {
     "name": "stdout",
     "output_type": "stream",
     "text": [
      "Billy\n"
     ]
    }
   ],
   "source": [
    "print(student['name'])"
   ]
  },
  {
   "cell_type": "code",
   "execution_count": 23,
   "id": "779adb41",
   "metadata": {},
   "outputs": [
    {
     "name": "stdout",
     "output_type": "stream",
     "text": [
      "38\n"
     ]
    }
   ],
   "source": [
    "print(student['age'])"
   ]
  },
  {
   "cell_type": "code",
   "execution_count": 24,
   "id": "11ed888b",
   "metadata": {},
   "outputs": [
    {
     "name": "stdout",
     "output_type": "stream",
     "text": [
      "{'name': 'Billy', 'age': 38}\n"
     ]
    }
   ],
   "source": [
    "print(student)"
   ]
  },
  {
   "cell_type": "code",
   "execution_count": 25,
   "id": "ae6ce61b",
   "metadata": {},
   "outputs": [],
   "source": [
    "del student['age']"
   ]
  },
  {
   "cell_type": "code",
   "execution_count": 26,
   "id": "188bc794",
   "metadata": {},
   "outputs": [
    {
     "name": "stdout",
     "output_type": "stream",
     "text": [
      "{'name': 'Billy'}\n"
     ]
    }
   ],
   "source": [
    "print(student)"
   ]
  },
  {
   "cell_type": "code",
   "execution_count": 27,
   "id": "8072f953",
   "metadata": {},
   "outputs": [],
   "source": [
    "student = {'name': 'Ishma', 'age': '17'}"
   ]
  },
  {
   "cell_type": "code",
   "execution_count": 28,
   "id": "4a4959a6",
   "metadata": {},
   "outputs": [
    {
     "name": "stdout",
     "output_type": "stream",
     "text": [
      "dict_keys(['name', 'age'])\n"
     ]
    }
   ],
   "source": [
    "print(student.keys())"
   ]
  },
  {
   "cell_type": "code",
   "execution_count": 29,
   "id": "ed3b530d",
   "metadata": {},
   "outputs": [
    {
     "name": "stdout",
     "output_type": "stream",
     "text": [
      "dict_values(['Ishma', '17'])\n"
     ]
    }
   ],
   "source": [
    "print(student.values())"
   ]
  },
  {
   "cell_type": "markdown",
   "id": "8ddb43a6",
   "metadata": {},
   "source": [
    "## Tuples"
   ]
  },
  {
   "cell_type": "code",
   "execution_count": 30,
   "id": "cdac37ae",
   "metadata": {},
   "outputs": [],
   "source": [
    "people = ('Ishma', ('kode', 'random'))"
   ]
  },
  {
   "cell_type": "code",
   "execution_count": 31,
   "id": "bf75931f",
   "metadata": {},
   "outputs": [
    {
     "name": "stdout",
     "output_type": "stream",
     "text": [
      "('Ishma', ('kode', 'random'))\n"
     ]
    }
   ],
   "source": [
    "print(people)"
   ]
  },
  {
   "cell_type": "code",
   "execution_count": 32,
   "id": "ba31b8b6",
   "metadata": {},
   "outputs": [
    {
     "name": "stdout",
     "output_type": "stream",
     "text": [
      "Ishma\n"
     ]
    }
   ],
   "source": [
    "print(people[0])"
   ]
  },
  {
   "cell_type": "code",
   "execution_count": 33,
   "id": "cb5890f5",
   "metadata": {},
   "outputs": [
    {
     "name": "stdout",
     "output_type": "stream",
     "text": [
      "('kode', 'random')\n"
     ]
    }
   ],
   "source": [
    "print(people[1])"
   ]
  },
  {
   "cell_type": "code",
   "execution_count": 34,
   "id": "c070a348",
   "metadata": {},
   "outputs": [
    {
     "name": "stdout",
     "output_type": "stream",
     "text": [
      "kode\n"
     ]
    }
   ],
   "source": [
    "print(people[1][0])"
   ]
  },
  {
   "cell_type": "code",
   "execution_count": 35,
   "id": "ae7ad91f",
   "metadata": {},
   "outputs": [],
   "source": [
    "numbers = (1, 2, 3, 4)"
   ]
  },
  {
   "cell_type": "code",
   "execution_count": 36,
   "id": "889e5ff2",
   "metadata": {},
   "outputs": [],
   "source": [
    "new_numbers = numbers[0], numbers[1:3]"
   ]
  },
  {
   "cell_type": "code",
   "execution_count": 37,
   "id": "a0d13826",
   "metadata": {},
   "outputs": [
    {
     "name": "stdout",
     "output_type": "stream",
     "text": [
      "(1, (2, 3))\n"
     ]
    }
   ],
   "source": [
    "print(new_numbers)"
   ]
  },
  {
   "cell_type": "code",
   "execution_count": 38,
   "id": "54bd3826",
   "metadata": {},
   "outputs": [
    {
     "name": "stdout",
     "output_type": "stream",
     "text": [
      "(1, 2, 3, 4)\n"
     ]
    }
   ],
   "source": [
    "print(numbers)"
   ]
  },
  {
   "cell_type": "code",
   "execution_count": 39,
   "id": "9d839c82",
   "metadata": {},
   "outputs": [],
   "source": [
    "email_attr = ('to', 'from', 'cc', 'bcc', 'subject', 'body')"
   ]
  },
  {
   "cell_type": "code",
   "execution_count": 40,
   "id": "915cd8d3",
   "metadata": {},
   "outputs": [],
   "source": [
    "email_attr_list = list(email_attr)"
   ]
  },
  {
   "cell_type": "code",
   "execution_count": 41,
   "id": "c5977351",
   "metadata": {},
   "outputs": [],
   "source": [
    "email_attr_list.sort()"
   ]
  },
  {
   "cell_type": "code",
   "execution_count": 42,
   "id": "bdfc3018",
   "metadata": {},
   "outputs": [
    {
     "name": "stdout",
     "output_type": "stream",
     "text": [
      "['bcc', 'body', 'cc', 'from', 'subject', 'to']\n"
     ]
    }
   ],
   "source": [
    "print(email_attr_list)"
   ]
  },
  {
   "cell_type": "markdown",
   "id": "3f7c0ab4",
   "metadata": {},
   "source": [
    "## Files"
   ]
  },
  {
   "cell_type": "code",
   "execution_count": 43,
   "id": "ff56d217",
   "metadata": {},
   "outputs": [],
   "source": [
    "myfile = open('text.txt','w')"
   ]
  },
  {
   "cell_type": "code",
   "execution_count": 44,
   "id": "b033c468",
   "metadata": {},
   "outputs": [
    {
     "data": {
      "text/plain": [
       "16"
      ]
     },
     "execution_count": 44,
     "metadata": {},
     "output_type": "execute_result"
    }
   ],
   "source": [
    "myfile.write('halo text file!\\n')"
   ]
  },
  {
   "cell_type": "code",
   "execution_count": 45,
   "id": "eae258aa",
   "metadata": {},
   "outputs": [
    {
     "data": {
      "text/plain": [
       "27"
      ]
     },
     "execution_count": 45,
     "metadata": {},
     "output_type": "execute_result"
    }
   ],
   "source": [
    "myfile.write('selamat tinggal text file!\\n')"
   ]
  },
  {
   "cell_type": "code",
   "execution_count": 46,
   "id": "f3b42f1e",
   "metadata": {},
   "outputs": [],
   "source": [
    "myfile.close()"
   ]
  },
  {
   "cell_type": "code",
   "execution_count": 47,
   "id": "9630863e",
   "metadata": {},
   "outputs": [],
   "source": [
    "myfile = open('text.txt')"
   ]
  },
  {
   "cell_type": "code",
   "execution_count": 48,
   "id": "63610952",
   "metadata": {},
   "outputs": [
    {
     "data": {
      "text/plain": [
       "'halo text file!\\n'"
      ]
     },
     "execution_count": 48,
     "metadata": {},
     "output_type": "execute_result"
    }
   ],
   "source": [
    "myfile.readline()"
   ]
  },
  {
   "cell_type": "code",
   "execution_count": 49,
   "id": "79fbadb6",
   "metadata": {},
   "outputs": [
    {
     "data": {
      "text/plain": [
       "'selamat tinggal text file!\\n'"
      ]
     },
     "execution_count": 49,
     "metadata": {},
     "output_type": "execute_result"
    }
   ],
   "source": [
    "myfile.readline()"
   ]
  },
  {
   "cell_type": "code",
   "execution_count": 50,
   "id": "6f4907c1",
   "metadata": {},
   "outputs": [
    {
     "data": {
      "text/plain": [
       "'halo text file!\\nselamat tinggal text file!\\n'"
      ]
     },
     "execution_count": 50,
     "metadata": {},
     "output_type": "execute_result"
    }
   ],
   "source": [
    "open('text.txt').read()"
   ]
  },
  {
   "cell_type": "code",
   "execution_count": 51,
   "id": "f195d6c2",
   "metadata": {},
   "outputs": [
    {
     "name": "stdout",
     "output_type": "stream",
     "text": [
      "halo text file!\n",
      "selamat tinggal text file!\n",
      "\n"
     ]
    }
   ],
   "source": [
    "print(open('text.txt').read())"
   ]
  },
  {
   "cell_type": "code",
   "execution_count": 52,
   "id": "4e4a9107",
   "metadata": {},
   "outputs": [],
   "source": [
    "x, y, z = 43, 44, 45"
   ]
  },
  {
   "cell_type": "code",
   "execution_count": 53,
   "id": "6e3ac454",
   "metadata": {},
   "outputs": [],
   "source": [
    "message = 'Spam'"
   ]
  },
  {
   "cell_type": "code",
   "execution_count": 54,
   "id": "3ba8d26b",
   "metadata": {},
   "outputs": [],
   "source": [
    "data = {'a': 1, 'b': 2}"
   ]
  },
  {
   "cell_type": "code",
   "execution_count": 55,
   "id": "bbd58240",
   "metadata": {},
   "outputs": [],
   "source": [
    "list = [1, 2, 3]"
   ]
  },
  {
   "cell_type": "code",
   "execution_count": 56,
   "id": "dff2dd19",
   "metadata": {},
   "outputs": [],
   "source": [
    "file = open('text.txt', 'w')"
   ]
  },
  {
   "cell_type": "code",
   "execution_count": 57,
   "id": "d8337e62",
   "metadata": {},
   "outputs": [
    {
     "data": {
      "text/plain": [
       "5"
      ]
     },
     "execution_count": 57,
     "metadata": {},
     "output_type": "execute_result"
    }
   ],
   "source": [
    "file.write(message + '\\n')"
   ]
  },
  {
   "cell_type": "code",
   "execution_count": 58,
   "id": "3d7dc7ce",
   "metadata": {},
   "outputs": [
    {
     "data": {
      "text/plain": [
       "9"
      ]
     },
     "execution_count": 58,
     "metadata": {},
     "output_type": "execute_result"
    }
   ],
   "source": [
    "file.write('%s,%s,%s\\n' % (x, y, z))"
   ]
  },
  {
   "cell_type": "code",
   "execution_count": 59,
   "id": "a4463cda",
   "metadata": {},
   "outputs": [
    {
     "data": {
      "text/plain": [
       "27"
      ]
     },
     "execution_count": 59,
     "metadata": {},
     "output_type": "execute_result"
    }
   ],
   "source": [
    "file.write(str(list) + '$' + str(data) + '\\n')"
   ]
  },
  {
   "cell_type": "code",
   "execution_count": 60,
   "id": "693a9ba7",
   "metadata": {},
   "outputs": [],
   "source": [
    "file.close()"
   ]
  },
  {
   "cell_type": "markdown",
   "id": "6fcf48cd",
   "metadata": {},
   "source": [
    "## While Loops"
   ]
  },
  {
   "cell_type": "code",
   "execution_count": 61,
   "id": "1c34f0db",
   "metadata": {},
   "outputs": [],
   "source": [
    "message = \"spam\""
   ]
  },
  {
   "cell_type": "code",
   "execution_count": 62,
   "id": "c302e105",
   "metadata": {},
   "outputs": [
    {
     "name": "stdout",
     "output_type": "stream",
     "text": [
      "spam pam am m "
     ]
    }
   ],
   "source": [
    "while message != '':\n",
    "    print(message, end=' ')\n",
    "    message = message[1:]"
   ]
  },
  {
   "cell_type": "code",
   "execution_count": 63,
   "id": "2f18e16c",
   "metadata": {},
   "outputs": [],
   "source": [
    "a = 0\n",
    "b = 13"
   ]
  },
  {
   "cell_type": "code",
   "execution_count": 64,
   "id": "2bf0286c",
   "metadata": {},
   "outputs": [
    {
     "name": "stdout",
     "output_type": "stream",
     "text": [
      "0 1 2 3 4 5 6 7 8 9 10 11 12 "
     ]
    }
   ],
   "source": [
    "while a < b:\n",
    "    print(a, end=' ')\n",
    "    a = a + 1"
   ]
  },
  {
   "cell_type": "markdown",
   "id": "4be9e113",
   "metadata": {},
   "source": [
    "while test:\n",
    "    statements\n",
    "    if test: break\n",
    "    if test: continue\n",
    "else:\n",
    "    statements"
   ]
  },
  {
   "cell_type": "code",
   "execution_count": 65,
   "id": "2c9c8939",
   "metadata": {},
   "outputs": [
    {
     "name": "stdout",
     "output_type": "stream",
     "text": [
      "Enter name: ishma\n",
      "Enter age: 21\n",
      "Hello ishma => 441\n",
      "Enter name: rafi\n",
      "Enter age: 17\n",
      "Hello rafi => 289\n",
      "Enter name: ulfa\n",
      "Enter age: 8\n",
      "Hello ulfa => 64\n",
      "Enter name: sisi\n",
      "Enter age: 2\n",
      "Hello sisi => 4\n",
      "Enter name: stop\n"
     ]
    }
   ],
   "source": [
    "while True:\n",
    "    name = input('Enter name: ')\n",
    "    if name == 'stop': break\n",
    "    age = input('Enter age: ')\n",
    "    print('Hello', name, '=>', int(age) ** 2)"
   ]
  },
  {
   "cell_type": "markdown",
   "id": "48f368f1",
   "metadata": {},
   "source": [
    "## For While"
   ]
  },
  {
   "cell_type": "code",
   "execution_count": 66,
   "id": "b6ebdc89",
   "metadata": {},
   "outputs": [
    {
     "name": "stdout",
     "output_type": "stream",
     "text": [
      "ishma\n",
      "billy\n",
      "kode\n"
     ]
    }
   ],
   "source": [
    "for word in ['ishma', 'billy', 'kode']:\n",
    "    print(word, end='\\n')"
   ]
  },
  {
   "cell_type": "code",
   "execution_count": 67,
   "id": "97cb983e",
   "metadata": {},
   "outputs": [],
   "source": [
    "sum = 0"
   ]
  },
  {
   "cell_type": "code",
   "execution_count": 68,
   "id": "10b9df3d",
   "metadata": {},
   "outputs": [],
   "source": [
    "for i in [1, 2, 3, 4]:\n",
    "    sum = sum + i"
   ]
  },
  {
   "cell_type": "code",
   "execution_count": 69,
   "id": "414abd82",
   "metadata": {},
   "outputs": [
    {
     "data": {
      "text/plain": [
       "10"
      ]
     },
     "execution_count": 69,
     "metadata": {},
     "output_type": "execute_result"
    }
   ],
   "source": [
    "sum"
   ]
  },
  {
   "cell_type": "code",
   "execution_count": 70,
   "id": "cf462018",
   "metadata": {},
   "outputs": [],
   "source": [
    "prod = 1"
   ]
  },
  {
   "cell_type": "code",
   "execution_count": 71,
   "id": "8427efa2",
   "metadata": {},
   "outputs": [],
   "source": [
    "for item in [1, 2, 3, 4]: prod *= item"
   ]
  },
  {
   "cell_type": "code",
   "execution_count": 72,
   "id": "05b62c8b",
   "metadata": {},
   "outputs": [
    {
     "data": {
      "text/plain": [
       "24"
      ]
     },
     "execution_count": 72,
     "metadata": {},
     "output_type": "execute_result"
    }
   ],
   "source": [
    "prod"
   ]
  },
  {
   "cell_type": "code",
   "execution_count": 73,
   "id": "d5131c99",
   "metadata": {},
   "outputs": [],
   "source": [
    "text = 'foxy fox'"
   ]
  },
  {
   "cell_type": "code",
   "execution_count": 74,
   "id": "ca7ec75a",
   "metadata": {},
   "outputs": [],
   "source": [
    "words = ('is', 'great', 'animal')"
   ]
  },
  {
   "cell_type": "code",
   "execution_count": 75,
   "id": "8cc2ff3c",
   "metadata": {},
   "outputs": [
    {
     "name": "stdout",
     "output_type": "stream",
     "text": [
      "f o x y   f o x "
     ]
    }
   ],
   "source": [
    "for chara in text: print(chara, end=' ')"
   ]
  },
  {
   "cell_type": "code",
   "execution_count": 76,
   "id": "af5f0247",
   "metadata": {},
   "outputs": [
    {
     "name": "stdout",
     "output_type": "stream",
     "text": [
      "is...great...animal..."
     ]
    }
   ],
   "source": [
    "for word in words: print(word, end='...')"
   ]
  },
  {
   "cell_type": "code",
   "execution_count": 77,
   "id": "f17287b2",
   "metadata": {},
   "outputs": [],
   "source": [
    "coor = [(1, 2),(3, 4),(5, 6)]"
   ]
  },
  {
   "cell_type": "code",
   "execution_count": 78,
   "id": "06b9d65a",
   "metadata": {},
   "outputs": [
    {
     "name": "stdout",
     "output_type": "stream",
     "text": [
      "1 2\n",
      "3 4\n",
      "5 6\n"
     ]
    }
   ],
   "source": [
    "for (x,y) in coor: print(x,y)"
   ]
  },
  {
   "cell_type": "code",
   "execution_count": 79,
   "id": "3dbc0f07",
   "metadata": {},
   "outputs": [
    {
     "name": "stdout",
     "output_type": "stream",
     "text": [
      "2\n",
      "4\n",
      "6\n",
      "8\n",
      "10\n",
      "12\n",
      "14\n",
      "16\n",
      "18\n",
      "20\n",
      "22\n",
      "24\n",
      "26\n",
      "28\n",
      "30\n",
      "32\n",
      "34\n",
      "36\n",
      "38\n",
      "40\n",
      "42\n",
      "44\n",
      "46\n",
      "48\n",
      "50\n",
      "52\n",
      "54\n",
      "56\n",
      "58\n",
      "60\n",
      "62\n",
      "64\n",
      "66\n",
      "68\n",
      "70\n",
      "72\n",
      "74\n",
      "76\n",
      "78\n",
      "80\n",
      "82\n",
      "84\n",
      "86\n",
      "88\n",
      "90\n",
      "92\n",
      "94\n",
      "96\n",
      "98\n",
      "100\n"
     ]
    }
   ],
   "source": [
    "x = 0\n",
    "while (x < 100):\n",
    "    x+=2\n",
    "    print(x)"
   ]
  },
  {
   "cell_type": "code",
   "execution_count": 81,
   "id": "e7435507",
   "metadata": {},
   "outputs": [
    {
     "name": "stdout",
     "output_type": "stream",
     "text": [
      "I, d, a, z, "
     ]
    }
   ],
   "source": [
    "for l in 'Idaz':\n",
    "    if l == 'a':\n",
    "        pass\n",
    "    print(l, end=\", \")"
   ]
  },
  {
   "cell_type": "markdown",
   "id": "8445dbce",
   "metadata": {},
   "source": [
    "## If Statements"
   ]
  },
  {
   "cell_type": "code",
   "execution_count": null,
   "id": "f6e9034c",
   "metadata": {},
   "outputs": [],
   "source": [
    "if kondisi1:\n",
    "    blok kode1\n",
    "elif kondisi2:\n",
    "    blok kode2\n",
    "else:\n",
    "    blok kode3"
   ]
  },
  {
   "cell_type": "code",
   "execution_count": 82,
   "id": "d4ff6097",
   "metadata": {},
   "outputs": [
    {
     "name": "stdout",
     "output_type": "stream",
     "text": [
      "true\n"
     ]
    }
   ],
   "source": [
    "if 1:\n",
    "    print('true')"
   ]
  },
  {
   "cell_type": "code",
   "execution_count": 83,
   "id": "784f1127",
   "metadata": {},
   "outputs": [
    {
     "name": "stdout",
     "output_type": "stream",
     "text": [
      "false\n"
     ]
    }
   ],
   "source": [
    "if not 1:\n",
    "    print('true')\n",
    "else:\n",
    "    print('false')"
   ]
  },
  {
   "cell_type": "code",
   "execution_count": 84,
   "id": "3fdbec7c",
   "metadata": {},
   "outputs": [
    {
     "name": "stdout",
     "output_type": "stream",
     "text": [
      "Enter your age: 36\n",
      "Lots of time left!\n"
     ]
    }
   ],
   "source": [
    "age = input('Enter your age: ')\n",
    "if int(age) * 365 > 20000:\n",
    "    print('Time to retire!')\n",
    "elif int(age) * 365 > 10000:\n",
    "    print('Lots of time left!')\n",
    "else:\n",
    "    print('Time to get started!')"
   ]
  },
  {
   "cell_type": "code",
   "execution_count": 85,
   "id": "67a7f470",
   "metadata": {},
   "outputs": [
    {
     "name": "stdout",
     "output_type": "stream",
     "text": [
      "Enter your age: 45\n",
      "Lots of time left!\n"
     ]
    }
   ],
   "source": [
    "age = input('Enter your age: ')\n",
    "if int(age) * 365 > 20000:\n",
    "    print('Time to retire!')\n",
    "elif int(age) * 365 > 10000:\n",
    "    print('Lots of time left!')\n",
    "else:\n",
    "    print('Time to get started!')"
   ]
  },
  {
   "cell_type": "code",
   "execution_count": 86,
   "id": "e68440cb",
   "metadata": {},
   "outputs": [
    {
     "name": "stdout",
     "output_type": "stream",
     "text": [
      "Enter your age: 78\n",
      "Time to retire!\n"
     ]
    }
   ],
   "source": [
    "age = input('Enter your age: ')\n",
    "if int(age) * 365 > 20000:\n",
    "    print('Time to retire!')\n",
    "elif int(age) * 365 > 10000:\n",
    "    print('Lots of time left!')\n",
    "else:\n",
    "    print('Time to get started!')"
   ]
  },
  {
   "cell_type": "code",
   "execution_count": 87,
   "id": "61b03825",
   "metadata": {},
   "outputs": [
    {
     "name": "stdout",
     "output_type": "stream",
     "text": [
      "Enter your age: 100\n",
      "Time to retire!\n"
     ]
    }
   ],
   "source": [
    "age = input('Enter your age: ')\n",
    "if int(age) * 365 > 20000:\n",
    "    print('Time to retire!')\n",
    "elif int(age) * 365 > 10000:\n",
    "    print('Lots of time left!')\n",
    "else:\n",
    "    print('Time to get started!')"
   ]
  },
  {
   "cell_type": "code",
   "execution_count": 89,
   "id": "6aae7436",
   "metadata": {},
   "outputs": [
    {
     "name": "stdout",
     "output_type": "stream",
     "text": [
      "Enter your age: 17\n",
      "Time to get started!\n"
     ]
    }
   ],
   "source": [
    "age = input('Enter your age: ')\n",
    "if int(age) * 365 > 20000:\n",
    "    print('Time to retire!')\n",
    "elif int(age) * 365 > 10000:\n",
    "    print('Lots of time left!')\n",
    "else:\n",
    "    print('Time to get started!')"
   ]
  },
  {
   "cell_type": "code",
   "execution_count": 90,
   "id": "764780a4",
   "metadata": {},
   "outputs": [
    {
     "name": "stdout",
     "output_type": "stream",
     "text": [
      "Enter your age: 33\n",
      "You are a Jedi Master now. Go learn from Master Yoda!!\n"
     ]
    }
   ],
   "source": [
    "user_age = input('Enter your age: ')\n",
    "age = int(user_age) * 365\n",
    "\n",
    "if age >= 9490:\n",
    "    print('You are a Jedi Master now. Go learn from Master Yoda!!')\n",
    "elif age >= 8395 and age < 9490:\n",
    "    print('Becoming Jedi Knight')\n",
    "else:\n",
    "    print('You are a young Padawan')"
   ]
  },
  {
   "cell_type": "code",
   "execution_count": 91,
   "id": "91793010",
   "metadata": {},
   "outputs": [
    {
     "name": "stdout",
     "output_type": "stream",
     "text": [
      "Enter your age: 23\n",
      "Becoming Jedi Knight\n"
     ]
    }
   ],
   "source": [
    "user_age = input('Enter your age: ')\n",
    "age = int(user_age) * 365\n",
    "\n",
    "if age >= 9490:\n",
    "    print('You are a Jedi Master now. Go learn from Master Yoda!!')\n",
    "elif age >= 8395 and age < 9490:\n",
    "    print('Becoming Jedi Knight')\n",
    "else:\n",
    "    print('You are a young Padawan')"
   ]
  },
  {
   "cell_type": "code",
   "execution_count": 92,
   "id": "435ffb3f",
   "metadata": {},
   "outputs": [
    {
     "name": "stdout",
     "output_type": "stream",
     "text": [
      "Enter your age: 17\n",
      "You are a young Padawan\n"
     ]
    }
   ],
   "source": [
    "user_age = input('Enter your age: ')\n",
    "age = int(user_age) * 365\n",
    "\n",
    "if age >= 9490:\n",
    "    print('You are a Jedi Master now. Go learn from Master Yoda!!')\n",
    "elif age >= 8395 and age < 9490:\n",
    "    print('Becoming Jedi Knight')\n",
    "else:\n",
    "    print('You are a young Padawan')"
   ]
  },
  {
   "cell_type": "code",
   "execution_count": 95,
   "id": "531d2951",
   "metadata": {},
   "outputs": [],
   "source": [
    "X = 10\n",
    "Y = 50\n",
    "if (X ** 2 > 100 and Y < 100):\n",
    "    print(X, Y)"
   ]
  },
  {
   "cell_type": "markdown",
   "id": "3b03a0d8",
   "metadata": {},
   "source": [
    "## Functions"
   ]
  },
  {
   "cell_type": "code",
   "execution_count": null,
   "id": "e81f6d2a",
   "metadata": {},
   "outputs": [],
   "source": [
    "# def funcname(self, parameter_list):\n",
    "#    pass"
   ]
  },
  {
   "cell_type": "code",
   "execution_count": 1,
   "id": "b8e5144a",
   "metadata": {},
   "outputs": [],
   "source": [
    "def add(a, b):\n",
    "    return a + b"
   ]
  },
  {
   "cell_type": "code",
   "execution_count": 2,
   "id": "560837e0",
   "metadata": {},
   "outputs": [
    {
     "data": {
      "text/plain": [
       "9"
      ]
     },
     "execution_count": 2,
     "metadata": {},
     "output_type": "execute_result"
    }
   ],
   "source": [
    "add(5, 4)"
   ]
  },
  {
   "cell_type": "code",
   "execution_count": 3,
   "id": "90386e82",
   "metadata": {},
   "outputs": [],
   "source": [
    "add_things = add(10, 4)"
   ]
  },
  {
   "cell_type": "code",
   "execution_count": 4,
   "id": "e385e027",
   "metadata": {},
   "outputs": [
    {
     "name": "stdout",
     "output_type": "stream",
     "text": [
      "14\n"
     ]
    }
   ],
   "source": [
    "print(add_things)"
   ]
  },
  {
   "cell_type": "code",
   "execution_count": 5,
   "id": "2f7a3b10",
   "metadata": {},
   "outputs": [],
   "source": [
    "def add_and_print(a, b):\n",
    "    print(a + b)"
   ]
  },
  {
   "cell_type": "code",
   "execution_count": 6,
   "id": "a6117505",
   "metadata": {},
   "outputs": [
    {
     "name": "stdout",
     "output_type": "stream",
     "text": [
      "4\n"
     ]
    }
   ],
   "source": [
    "add_and_print(1, 3)"
   ]
  },
  {
   "cell_type": "code",
   "execution_count": 7,
   "id": "9914387a",
   "metadata": {},
   "outputs": [
    {
     "name": "stdout",
     "output_type": "stream",
     "text": [
      "8\n"
     ]
    }
   ],
   "source": [
    "x = add_and_print(5, 3)"
   ]
  },
  {
   "cell_type": "code",
   "execution_count": 8,
   "id": "70a16fab",
   "metadata": {},
   "outputs": [
    {
     "name": "stdout",
     "output_type": "stream",
     "text": [
      "None\n"
     ]
    }
   ],
   "source": [
    "print(x)"
   ]
  },
  {
   "cell_type": "code",
   "execution_count": 9,
   "id": "f442212b",
   "metadata": {},
   "outputs": [],
   "source": [
    "def intersection(first_word, second_word):\n",
    "    result = []\n",
    "    for x in first_word:\n",
    "        if x in second_word:\n",
    "            result.append(x)\n",
    "    return result"
   ]
  },
  {
   "cell_type": "code",
   "execution_count": 10,
   "id": "5a726f79",
   "metadata": {},
   "outputs": [
    {
     "name": "stdout",
     "output_type": "stream",
     "text": [
      "['s', 'a', 'm']\n"
     ]
    }
   ],
   "source": [
    "word1 = 'spam'\n",
    "word2 = 'scam'\n",
    "char_of_intersect = intersection(word1, word2)\n",
    "print(char_of_intersect)"
   ]
  },
  {
   "cell_type": "markdown",
   "id": "fa70dc37",
   "metadata": {},
   "source": [
    "## Modules & Built-in Function"
   ]
  },
  {
   "cell_type": "code",
   "execution_count": 11,
   "id": "7f41a872",
   "metadata": {},
   "outputs": [
    {
     "name": "stdout",
     "output_type": "stream",
     "text": [
      "123\n"
     ]
    }
   ],
   "source": [
    "print(abs(-123))"
   ]
  },
  {
   "cell_type": "code",
   "execution_count": 12,
   "id": "53754a44",
   "metadata": {},
   "outputs": [
    {
     "name": "stdout",
     "output_type": "stream",
     "text": [
      "123\n"
     ]
    }
   ],
   "source": [
    "print(abs(123))"
   ]
  },
  {
   "cell_type": "code",
   "execution_count": 13,
   "id": "98b15672",
   "metadata": {},
   "outputs": [
    {
     "name": "stdout",
     "output_type": "stream",
     "text": [
      "True\n"
     ]
    }
   ],
   "source": [
    "numbers = [1, 2, 3]\n",
    "print(isinstance(numbers, list))"
   ]
  },
  {
   "cell_type": "code",
   "execution_count": 14,
   "id": "8d2d30c7",
   "metadata": {},
   "outputs": [
    {
     "name": "stdout",
     "output_type": "stream",
     "text": [
      "False\n"
     ]
    }
   ],
   "source": [
    "print(isinstance(numbers, dict))"
   ]
  },
  {
   "cell_type": "code",
   "execution_count": 17,
   "id": "a2bef0ba",
   "metadata": {},
   "outputs": [
    {
     "name": "stdout",
     "output_type": "stream",
     "text": [
      "False\n"
     ]
    }
   ],
   "source": [
    "number = 22\n",
    "print(isinstance(number, dict))"
   ]
  },
  {
   "cell_type": "code",
   "execution_count": 18,
   "id": "a9e44492",
   "metadata": {},
   "outputs": [
    {
     "name": "stdout",
     "output_type": "stream",
     "text": [
      "False\n"
     ]
    }
   ],
   "source": [
    "print(isinstance(number, list))"
   ]
  },
  {
   "cell_type": "code",
   "execution_count": 19,
   "id": "9324dafd",
   "metadata": {},
   "outputs": [
    {
     "name": "stdout",
     "output_type": "stream",
     "text": [
      "True\n"
     ]
    }
   ],
   "source": [
    "print(isinstance(number, int))"
   ]
  },
  {
   "cell_type": "code",
   "execution_count": 20,
   "id": "98902808",
   "metadata": {},
   "outputs": [],
   "source": [
    "numbers = [1, 2, 3, 4, 5, 6]"
   ]
  },
  {
   "cell_type": "code",
   "execution_count": 21,
   "id": "f564bb5d",
   "metadata": {},
   "outputs": [
    {
     "name": "stdout",
     "output_type": "stream",
     "text": [
      "6\n"
     ]
    }
   ],
   "source": [
    "print(max(numbers))"
   ]
  },
  {
   "cell_type": "code",
   "execution_count": 22,
   "id": "8ee2df37",
   "metadata": {},
   "outputs": [
    {
     "name": "stdout",
     "output_type": "stream",
     "text": [
      "1\n"
     ]
    }
   ],
   "source": [
    "print(min(numbers))"
   ]
  },
  {
   "cell_type": "code",
   "execution_count": 23,
   "id": "7171242f",
   "metadata": {},
   "outputs": [
    {
     "name": "stdout",
     "output_type": "stream",
     "text": [
      "z\n"
     ]
    }
   ],
   "source": [
    "alphas = ['a', 'b', 'z']\n",
    "print(max(alphas))"
   ]
  },
  {
   "cell_type": "code",
   "execution_count": 24,
   "id": "0aacdcd1",
   "metadata": {},
   "outputs": [
    {
     "name": "stdout",
     "output_type": "stream",
     "text": [
      "a\n"
     ]
    }
   ],
   "source": [
    "print(min(alphas))"
   ]
  },
  {
   "cell_type": "code",
   "execution_count": null,
   "id": "83ff4f36",
   "metadata": {},
   "outputs": [],
   "source": [
    "# index = memberikan informasi dari suatu item berada dalam sebuah list"
   ]
  },
  {
   "cell_type": "code",
   "execution_count": 25,
   "id": "08048e72",
   "metadata": {},
   "outputs": [],
   "source": [
    "languages = ['py', 'js', 'go', 'c']"
   ]
  },
  {
   "cell_type": "code",
   "execution_count": 26,
   "id": "5461b77e",
   "metadata": {},
   "outputs": [
    {
     "name": "stdout",
     "output_type": "stream",
     "text": [
      "2\n"
     ]
    }
   ],
   "source": [
    "print(languages.index('go'))"
   ]
  },
  {
   "cell_type": "code",
   "execution_count": 27,
   "id": "3c6bba50",
   "metadata": {},
   "outputs": [],
   "source": [
    "languages.sort()"
   ]
  },
  {
   "cell_type": "code",
   "execution_count": 28,
   "id": "a74f0797",
   "metadata": {},
   "outputs": [
    {
     "name": "stdout",
     "output_type": "stream",
     "text": [
      "['c', 'go', 'js', 'py']\n"
     ]
    }
   ],
   "source": [
    "print(languages)"
   ]
  },
  {
   "cell_type": "code",
   "execution_count": 29,
   "id": "0a2014a1",
   "metadata": {},
   "outputs": [],
   "source": [
    "name = 'ishma'"
   ]
  },
  {
   "cell_type": "code",
   "execution_count": 30,
   "id": "66833b04",
   "metadata": {},
   "outputs": [
    {
     "name": "stdout",
     "output_type": "stream",
     "text": [
      "ishma\n"
     ]
    }
   ],
   "source": [
    "print(name)"
   ]
  },
  {
   "cell_type": "code",
   "execution_count": 31,
   "id": "4a855169",
   "metadata": {},
   "outputs": [
    {
     "data": {
      "text/plain": [
       "'ishmi'"
      ]
     },
     "execution_count": 31,
     "metadata": {},
     "output_type": "execute_result"
    }
   ],
   "source": [
    "name.replace('a', 'i')"
   ]
  },
  {
   "cell_type": "code",
   "execution_count": 32,
   "id": "deef187d",
   "metadata": {},
   "outputs": [
    {
     "data": {
      "text/plain": [
       "'Ishma'"
      ]
     },
     "execution_count": 32,
     "metadata": {},
     "output_type": "execute_result"
    }
   ],
   "source": [
    "name.capitalize()"
   ]
  },
  {
   "cell_type": "code",
   "execution_count": null,
   "id": "4e5883e4",
   "metadata": {},
   "outputs": [],
   "source": [
    "# Modules\n",
    "# import = untuk mengambil keseluruhan modul\n",
    "# from = hanya mengambil sebagian modul"
   ]
  },
  {
   "cell_type": "markdown",
   "id": "8223ff1c",
   "metadata": {},
   "source": [
    "## Packages"
   ]
  },
  {
   "cell_type": "markdown",
   "id": "36437874",
   "metadata": {},
   "source": [
    "## NumPy"
   ]
  },
  {
   "cell_type": "code",
   "execution_count": 35,
   "id": "8e22b2d6",
   "metadata": {},
   "outputs": [
    {
     "ename": "TypeError",
     "evalue": "unsupported operand type(s) for ** or pow(): 'list' and 'int'",
     "output_type": "error",
     "traceback": [
      "\u001b[1;31m---------------------------------------------------------------------------\u001b[0m",
      "\u001b[1;31mTypeError\u001b[0m                                 Traceback (most recent call last)",
      "Cell \u001b[1;32mIn[35], line 1\u001b[0m\n\u001b[1;32m----> 1\u001b[0m weight \u001b[38;5;241m/\u001b[39m height \u001b[38;5;241m*\u001b[39m\u001b[38;5;241m*\u001b[39m \u001b[38;5;241m2\u001b[39m\n",
      "\u001b[1;31mTypeError\u001b[0m: unsupported operand type(s) for ** or pow(): 'list' and 'int'"
     ]
    }
   ],
   "source": [
    "weight / height ** 2"
   ]
  },
  {
   "cell_type": "code",
   "execution_count": 36,
   "id": "1be3779b",
   "metadata": {},
   "outputs": [
    {
     "name": "stdout",
     "output_type": "stream",
     "text": [
      "Requirement already satisfied: numpy in c:\\programdata\\anaconda3\\lib\\site-packages (1.24.3)\n"
     ]
    }
   ],
   "source": [
    "!pip install numpy"
   ]
  },
  {
   "cell_type": "code",
   "execution_count": 37,
   "id": "588900ba",
   "metadata": {},
   "outputs": [],
   "source": [
    "import numpy as np"
   ]
  },
  {
   "cell_type": "code",
   "execution_count": 38,
   "id": "4fcc7d7a",
   "metadata": {},
   "outputs": [],
   "source": [
    "height = [1.75, 1.68, 1.8, 1.81, 1.69]"
   ]
  },
  {
   "cell_type": "code",
   "execution_count": 39,
   "id": "edcb3723",
   "metadata": {},
   "outputs": [],
   "source": [
    "weight = [66.4, 49.22, 66.3, 88.56, 65.4]"
   ]
  },
  {
   "cell_type": "code",
   "execution_count": 40,
   "id": "1944899d",
   "metadata": {},
   "outputs": [],
   "source": [
    "np_height = np.array(height)\n",
    "np_weight = np.array(weight)"
   ]
  },
  {
   "cell_type": "code",
   "execution_count": 41,
   "id": "e53e0f2e",
   "metadata": {},
   "outputs": [],
   "source": [
    "bmi = np_weight/np_height ** 2"
   ]
  },
  {
   "cell_type": "code",
   "execution_count": 42,
   "id": "f7d2bdd5",
   "metadata": {},
   "outputs": [
    {
     "name": "stdout",
     "output_type": "stream",
     "text": [
      "[21.68163265 17.43905896 20.46296296 27.03214188 22.8983579 ]\n"
     ]
    }
   ],
   "source": [
    "print(bmi)"
   ]
  },
  {
   "cell_type": "code",
   "execution_count": 43,
   "id": "4b4490a4",
   "metadata": {},
   "outputs": [
    {
     "name": "stdout",
     "output_type": "stream",
     "text": [
      "['1.0' 'is' 'True']\n"
     ]
    }
   ],
   "source": [
    "mixed_array = np.array([1.0, 'is', True])\n",
    "print(mixed_array)"
   ]
  },
  {
   "cell_type": "code",
   "execution_count": 44,
   "id": "b78b1170",
   "metadata": {},
   "outputs": [],
   "source": [
    "numlist = [1, 2, 3]\n",
    "nparray = np.array([1, 2, 3])"
   ]
  },
  {
   "cell_type": "code",
   "execution_count": 45,
   "id": "96f06f1a",
   "metadata": {},
   "outputs": [
    {
     "data": {
      "text/plain": [
       "[1, 2, 3, 1, 2, 3]"
      ]
     },
     "execution_count": 45,
     "metadata": {},
     "output_type": "execute_result"
    }
   ],
   "source": [
    "numlist + numlist"
   ]
  },
  {
   "cell_type": "code",
   "execution_count": 46,
   "id": "5a2c6595",
   "metadata": {},
   "outputs": [
    {
     "data": {
      "text/plain": [
       "array([21.68163265, 17.43905896, 20.46296296, 27.03214188, 22.8983579 ])"
      ]
     },
     "execution_count": 46,
     "metadata": {},
     "output_type": "execute_result"
    }
   ],
   "source": [
    "bmi"
   ]
  },
  {
   "cell_type": "code",
   "execution_count": 47,
   "id": "fd1768fb",
   "metadata": {},
   "outputs": [
    {
     "data": {
      "text/plain": [
       "array([False, False, False,  True, False])"
      ]
     },
     "execution_count": 47,
     "metadata": {},
     "output_type": "execute_result"
    }
   ],
   "source": [
    "bmi > 24"
   ]
  },
  {
   "cell_type": "code",
   "execution_count": 48,
   "id": "e0914123",
   "metadata": {},
   "outputs": [
    {
     "data": {
      "text/plain": [
       "array([27.03214188])"
      ]
     },
     "execution_count": 48,
     "metadata": {},
     "output_type": "execute_result"
    }
   ],
   "source": [
    "bmi[bmi > 24]"
   ]
  },
  {
   "cell_type": "markdown",
   "id": "e1a3d460",
   "metadata": {},
   "source": [
    "## Statistik Dasar dengan Numpy"
   ]
  },
  {
   "cell_type": "code",
   "execution_count": 49,
   "id": "0b3d830f",
   "metadata": {},
   "outputs": [],
   "source": [
    "height = np.round(np.random.normal(1.75, 0.2, 5000), 2)"
   ]
  },
  {
   "cell_type": "code",
   "execution_count": 50,
   "id": "083e0189",
   "metadata": {},
   "outputs": [
    {
     "data": {
      "text/plain": [
       "array([1.56, 1.84, 1.62, ..., 1.25, 1.67, 1.85])"
      ]
     },
     "execution_count": 50,
     "metadata": {},
     "output_type": "execute_result"
    }
   ],
   "source": [
    "height"
   ]
  },
  {
   "cell_type": "code",
   "execution_count": 51,
   "id": "e51c3e26",
   "metadata": {},
   "outputs": [
    {
     "data": {
      "text/plain": [
       "5000"
      ]
     },
     "execution_count": 51,
     "metadata": {},
     "output_type": "execute_result"
    }
   ],
   "source": [
    "len(height)"
   ]
  },
  {
   "cell_type": "code",
   "execution_count": 52,
   "id": "8aab551e",
   "metadata": {},
   "outputs": [],
   "source": [
    "weight = np.round(np.random.normal(60.32, 15, 5000), 2)"
   ]
  },
  {
   "cell_type": "code",
   "execution_count": 53,
   "id": "b4b21efd",
   "metadata": {},
   "outputs": [
    {
     "data": {
      "text/plain": [
       "array([51.83, 52.46, 59.12, ..., 74.4 , 67.94, 37.87])"
      ]
     },
     "execution_count": 53,
     "metadata": {},
     "output_type": "execute_result"
    }
   ],
   "source": [
    "weight"
   ]
  },
  {
   "cell_type": "code",
   "execution_count": 54,
   "id": "58c6e244",
   "metadata": {},
   "outputs": [
    {
     "data": {
      "text/plain": [
       "5000"
      ]
     },
     "execution_count": 54,
     "metadata": {},
     "output_type": "execute_result"
    }
   ],
   "source": [
    "len(weight)"
   ]
  },
  {
   "cell_type": "code",
   "execution_count": 55,
   "id": "9e1a7801",
   "metadata": {},
   "outputs": [],
   "source": [
    "np_city = np.column_stack((height, weight))"
   ]
  },
  {
   "cell_type": "code",
   "execution_count": 56,
   "id": "c335b6ae",
   "metadata": {},
   "outputs": [
    {
     "data": {
      "text/plain": [
       "1.74288"
      ]
     },
     "execution_count": 56,
     "metadata": {},
     "output_type": "execute_result"
    }
   ],
   "source": [
    "np.mean(np_city[:,0])"
   ]
  },
  {
   "cell_type": "code",
   "execution_count": 57,
   "id": "da0baa0d",
   "metadata": {},
   "outputs": [
    {
     "data": {
      "text/plain": [
       "1.74"
      ]
     },
     "execution_count": 57,
     "metadata": {},
     "output_type": "execute_result"
    }
   ],
   "source": [
    "np.median(np_city[:,0])"
   ]
  },
  {
   "cell_type": "code",
   "execution_count": 58,
   "id": "c974da97",
   "metadata": {},
   "outputs": [
    {
     "data": {
      "text/plain": [
       "0.1986589680834973"
      ]
     },
     "execution_count": 58,
     "metadata": {},
     "output_type": "execute_result"
    }
   ],
   "source": [
    "np.std(np_city[:,0])"
   ]
  },
  {
   "cell_type": "markdown",
   "id": "8a92afa9",
   "metadata": {},
   "source": [
    "## Numpy Array 2D"
   ]
  },
  {
   "cell_type": "code",
   "execution_count": 62,
   "id": "e7f79315",
   "metadata": {},
   "outputs": [],
   "source": [
    "height = np.array([1.75, 1.68, 1.8])"
   ]
  },
  {
   "cell_type": "code",
   "execution_count": 63,
   "id": "e2e77fe2",
   "metadata": {},
   "outputs": [],
   "source": [
    "weight = np.array([66.4, 49.22, 66.3])"
   ]
  },
  {
   "cell_type": "code",
   "execution_count": 64,
   "id": "a2b8e4f5",
   "metadata": {},
   "outputs": [
    {
     "data": {
      "text/plain": [
       "numpy.ndarray"
      ]
     },
     "execution_count": 64,
     "metadata": {},
     "output_type": "execute_result"
    }
   ],
   "source": [
    "type(height)"
   ]
  },
  {
   "cell_type": "code",
   "execution_count": 65,
   "id": "a48c0f49",
   "metadata": {},
   "outputs": [],
   "source": [
    "np_2d = np.array([[1.75, 1.68, 1.8],\n",
    "                 [66.4, 49.22, 66.3]])"
   ]
  },
  {
   "cell_type": "code",
   "execution_count": 66,
   "id": "1aba0ba6",
   "metadata": {},
   "outputs": [
    {
     "data": {
      "text/plain": [
       "array([[ 1.75,  1.68,  1.8 ],\n",
       "       [66.4 , 49.22, 66.3 ]])"
      ]
     },
     "execution_count": 66,
     "metadata": {},
     "output_type": "execute_result"
    }
   ],
   "source": [
    "np_2d"
   ]
  },
  {
   "cell_type": "code",
   "execution_count": 67,
   "id": "943c1f28",
   "metadata": {},
   "outputs": [
    {
     "data": {
      "text/plain": [
       "(2, 3)"
      ]
     },
     "execution_count": 67,
     "metadata": {},
     "output_type": "execute_result"
    }
   ],
   "source": [
    "np_2d.shape"
   ]
  },
  {
   "cell_type": "code",
   "execution_count": 68,
   "id": "d55b619a",
   "metadata": {},
   "outputs": [
    {
     "data": {
      "text/plain": [
       "array([1.75, 1.68, 1.8 ])"
      ]
     },
     "execution_count": 68,
     "metadata": {},
     "output_type": "execute_result"
    }
   ],
   "source": [
    "np_2d[0]"
   ]
  },
  {
   "cell_type": "code",
   "execution_count": 69,
   "id": "f41a40d3",
   "metadata": {},
   "outputs": [
    {
     "data": {
      "text/plain": [
       "1.8"
      ]
     },
     "execution_count": 69,
     "metadata": {},
     "output_type": "execute_result"
    }
   ],
   "source": [
    "np_2d[0][2]"
   ]
  },
  {
   "cell_type": "code",
   "execution_count": 70,
   "id": "91965480",
   "metadata": {},
   "outputs": [
    {
     "data": {
      "text/plain": [
       "array([[ 1.68,  1.8 ],\n",
       "       [49.22, 66.3 ]])"
      ]
     },
     "execution_count": 70,
     "metadata": {},
     "output_type": "execute_result"
    }
   ],
   "source": [
    "np_2d[:,1:3]"
   ]
  },
  {
   "cell_type": "code",
   "execution_count": 71,
   "id": "8c355624",
   "metadata": {},
   "outputs": [
    {
     "data": {
      "text/plain": [
       "array([66.4 , 49.22, 66.3 ])"
      ]
     },
     "execution_count": 71,
     "metadata": {},
     "output_type": "execute_result"
    }
   ],
   "source": [
    "np_2d[1,:]"
   ]
  },
  {
   "cell_type": "code",
   "execution_count": null,
   "id": "bef6adaa",
   "metadata": {},
   "outputs": [],
   "source": []
  }
 ],
 "metadata": {
  "kernelspec": {
   "display_name": "Python 3 (ipykernel)",
   "language": "python",
   "name": "python3"
  },
  "language_info": {
   "codemirror_mode": {
    "name": "ipython",
    "version": 3
   },
   "file_extension": ".py",
   "mimetype": "text/x-python",
   "name": "python",
   "nbconvert_exporter": "python",
   "pygments_lexer": "ipython3",
   "version": "3.11.4"
  }
 },
 "nbformat": 4,
 "nbformat_minor": 5
}
