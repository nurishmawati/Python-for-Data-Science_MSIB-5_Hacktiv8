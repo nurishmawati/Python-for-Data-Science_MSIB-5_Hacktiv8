{
 "cells": [
  {
   "cell_type": "code",
   "execution_count": 43,
   "id": "87b16713-b51c-44f6-b756-8fdf48454af8",
   "metadata": {
    "tags": []
   },
   "outputs": [
    {
     "name": "stdout",
     "output_type": "stream",
     "text": [
      "1234561\n"
     ]
    }
   ],
   "source": [
    "# 1. Integers\n",
    "print(1234560+1)"
   ]
  },
  {
   "cell_type": "code",
   "execution_count": 44,
   "id": "caa20ae7",
   "metadata": {
    "tags": []
   },
   "outputs": [
    {
     "data": {
      "text/plain": [
       "int"
      ]
     },
     "execution_count": 44,
     "metadata": {},
     "output_type": "execute_result"
    }
   ],
   "source": [
    "type(103285734987)"
   ]
  },
  {
   "cell_type": "code",
   "execution_count": 45,
   "id": "cf63e2af-f3d9-42ef-9621-a807ff9d7937",
   "metadata": {
    "tags": []
   },
   "outputs": [
    {
     "name": "stdout",
     "output_type": "stream",
     "text": [
      "103285734987\n",
      "<class 'int'>\n"
     ]
    }
   ],
   "source": [
    "print(103285734987)\n",
    "print(type(103285734987))"
   ]
  },
  {
   "cell_type": "code",
   "execution_count": 46,
   "id": "dce0b18e-b578-4a09-b8d2-0108c0a4ea08",
   "metadata": {
    "tags": []
   },
   "outputs": [
    {
     "name": "stdout",
     "output_type": "stream",
     "text": [
      "3.2\n",
      "0.3\n",
      "0.00032\n",
      "<class 'float'>\n"
     ]
    }
   ],
   "source": [
    "# 2. Floating-Point Numbers\n",
    "print(3.2)\n",
    "print(.3)\n",
    "print(3.2e-4)\n",
    "print(type(3.2e-4))"
   ]
  },
  {
   "cell_type": "code",
   "execution_count": 47,
   "id": "4916c165-47bd-45e3-b409-444d4bdfe039",
   "metadata": {
    "tags": []
   },
   "outputs": [
    {
     "data": {
      "text/plain": [
       "'Hello Word'"
      ]
     },
     "metadata": {},
     "output_type": "display_data"
    },
    {
     "name": "stdout",
     "output_type": "stream",
     "text": [
      "<class 'str'>\n",
      "\"Hello Word\"\n",
      "Can't\n",
      "\"She\"knows\n",
      "\"She\"knows she can't do it\n",
      "'She'knows she can\"t do it\n"
     ]
    }
   ],
   "source": [
    "# 3. String\n",
    "\"iye\"\n",
    "display(\"Hello Word\")\n",
    "print(type(\"Hello Word\"))\n",
    "print('\"Hello Word\"')\n",
    "print(\"Can't\")\n",
    "print('\"She\"knows')\n",
    "print('''\"She\"knows she can't do it''')\n",
    "print(\"\"\"'She'knows she can\"t do it\"\"\")"
   ]
  },
  {
   "cell_type": "code",
   "execution_count": 48,
   "id": "59a01494-bba2-499b-b543-68dda5d87fcf",
   "metadata": {
    "tags": []
   },
   "outputs": [
    {
     "name": "stdout",
     "output_type": "stream",
     "text": [
      "True\n",
      "False\n",
      "<class 'bool'>\n",
      "1\n",
      "2\n",
      "0\n"
     ]
    }
   ],
   "source": [
    "# 4. Boolean Type, Boolean Context, and Truthiness (TRUE = 1, FALSE = 0)\n",
    "print(True)\n",
    "print(False)\n",
    "print(type(True))\n",
    "\n",
    "print(True + False)\n",
    "print(True + True)\n",
    "print(False + False)"
   ]
  },
  {
   "cell_type": "code",
   "execution_count": 49,
   "id": "587e544c-b579-48a3-9dc8-7da7053b9ea1",
   "metadata": {
    "tags": []
   },
   "outputs": [
    {
     "name": "stdout",
     "output_type": "stream",
     "text": [
      "b\n"
     ]
    },
    {
     "data": {
      "text/plain": [
       "500"
      ]
     },
     "execution_count": 49,
     "metadata": {},
     "output_type": "execute_result"
    }
   ],
   "source": [
    "# 5. Variable Assignment\n",
    "a = 'b'\n",
    "a\n",
    "print(a)\n",
    "\n",
    "a = 500\n",
    "a"
   ]
  },
  {
   "cell_type": "code",
   "execution_count": 50,
   "id": "1c3a4d4d-dcb7-408a-80ac-e26269904aa9",
   "metadata": {
    "tags": []
   },
   "outputs": [
    {
     "name": "stdout",
     "output_type": "stream",
     "text": [
      "10\n",
      "10\n",
      "10\n",
      "1\n",
      "2\n",
      "a\n",
      "10 10 10\n",
      "1 2 a\n"
     ]
    }
   ],
   "source": [
    "q = w = e = 10\n",
    "print(q)\n",
    "print(w)\n",
    "print(e)\n",
    "\n",
    "z, x, y = 1, 2, 'a'\n",
    "print(z)\n",
    "print(x)\n",
    "print(y)\n",
    "\n",
    "print(q, w, e)\n",
    "print(z, x, y)"
   ]
  },
  {
   "cell_type": "code",
   "execution_count": 58,
   "id": "7a651b35-766e-4b89-97f0-49a9f12eec9f",
   "metadata": {
    "tags": []
   },
   "outputs": [
    {
     "name": "stdout",
     "output_type": "stream",
     "text": [
      "(22, 2)\n",
      "22.2\n",
      "Now Im a String\n"
     ]
    }
   ],
   "source": [
    "# 6. Variable Types in Python\n",
    "var = 22,2\n",
    "bar = 22.2\n",
    "print(var)\n",
    "print(bar)\n",
    "\n",
    "var = \"Now Im a String\"\n",
    "var\n",
    "\n",
    "print(var)"
   ]
  },
  {
   "cell_type": "code",
   "execution_count": 51,
   "id": "9a573fa0-d718-4466-b08f-30e8b6912152",
   "metadata": {
    "tags": []
   },
   "outputs": [
    {
     "name": "stdout",
     "output_type": "stream",
     "text": [
      "21\n"
     ]
    },
    {
     "data": {
      "text/plain": [
       "'dor'"
      ]
     },
     "execution_count": 51,
     "metadata": {},
     "output_type": "execute_result"
    }
   ],
   "source": [
    "# 7. Variable Names\n",
    "age = 21\n",
    "_shot1 = 'dor'\n",
    "# 2bus = 21 (tidak boleh dimulai dengan angka)\n",
    "print(age)\n",
    "_shot1"
   ]
  },
  {
   "cell_type": "code",
   "execution_count": 52,
   "id": "6891b139-aeab-40f2-9c80-207bf14b35d4",
   "metadata": {
    "tags": []
   },
   "outputs": [
    {
     "name": "stdout",
     "output_type": "stream",
     "text": [
      "0 1 2 3 4 5 6 7 8 9\n"
     ]
    }
   ],
   "source": [
    "gila = 0\n",
    "Gila = 1\n",
    "gIla = 2\n",
    "giLa = 3\n",
    "GILA = 4\n",
    "g_ila = 5\n",
    "gi_la =6\n",
    "Gil_a = 7\n",
    "G_il_a = 8\n",
    "_Gila_ = 9\n",
    "\n",
    "print(gila, Gila, gIla, giLa, GILA, g_ila, gi_la, Gil_a, G_il_a, _Gila_)"
   ]
  },
  {
   "cell_type": "code",
   "execution_count": 53,
   "id": "0bc4e459-4cb5-48cf-adc7-f80e510711a0",
   "metadata": {
    "tags": []
   },
   "outputs": [
    {
     "name": "stdout",
     "output_type": "stream",
     "text": [
      "7\n",
      "3\n",
      "10\n",
      "2.5\n",
      "2\n",
      "25\n",
      "1\n",
      "17\n"
     ]
    }
   ],
   "source": [
    "# 8. Arithmetic Operators\n",
    "a = 5\n",
    "b = 2\n",
    "print(a + b) # penjumlahan\n",
    "print(a - b) # pengurangan\n",
    "print(a * b) # perkalian\n",
    "print(a / b) # pembagian desimal\n",
    "print(a // b) # pembagian integer\n",
    "print(a ** b) # pangkat\n",
    "print(a % b) # modulo (nilai sisa dari pembagian)\n",
    "\n",
    "print(a + b + 10)"
   ]
  },
  {
   "cell_type": "code",
   "execution_count": 54,
   "id": "db4024ef-f1f2-4b1e-b259-770b321c24f7",
   "metadata": {
    "tags": []
   },
   "outputs": [
    {
     "name": "stdout",
     "output_type": "stream",
     "text": [
      "False\n",
      "True\n",
      "True\n",
      "True\n",
      "True\n",
      "False\n",
      "False\n"
     ]
    }
   ],
   "source": [
    "# 9. Comparison Operators\n",
    "a = 5\n",
    "b = 2\n",
    "c = 2\n",
    "print(a == b)\n",
    "print(c == b) # sama dengan\n",
    "print(a != b) # tidak sama dengan\n",
    "print(a > b) # besar dari\n",
    "print(a >= b) # besar dari sama dengan\n",
    "print(a < b) # kecil dari\n",
    "print(a <= b) # kecil dari sama dengan"
   ]
  },
  {
   "cell_type": "code",
   "execution_count": 55,
   "id": "ffd91c1b-6003-45fb-87d7-e4632fe222b4",
   "metadata": {
    "tags": []
   },
   "outputs": [
    {
     "name": "stdout",
     "output_type": "stream",
     "text": [
      "Hactive8\n",
      "Python\n",
      "PyPyPyPyPy\n",
      "True\n",
      "False\n",
      "HACTIVE8\n",
      "hactive8\n",
      "Hactive8\n",
      "hActIVe8\n",
      "Hactive8\n"
     ]
    }
   ],
   "source": [
    "# 10. String Manipulation\n",
    "print('Hactive' + '8')\n",
    "q = 'Py'\n",
    "w = 'thon'\n",
    "\n",
    "print(q + w) # + operators\n",
    "\n",
    "print(q * a) # * operators\n",
    "\n",
    "print(q in 'Python') # in operators\n",
    "print(w in 'Pyton')\n",
    "\n",
    "\n",
    "h = 'HaCTivE8' # case conversion\n",
    "print(h.upper())\n",
    "print(h.lower())\n",
    "print(h.capitalize())\n",
    "print(h.swapcase())\n",
    "print(h.title())"
   ]
  },
  {
   "cell_type": "code",
   "execution_count": 56,
   "id": "9278a6eb-0499-479d-892a-d4786f936dc7",
   "metadata": {},
   "outputs": [
    {
     "name": "stdout",
     "output_type": "stream",
     "text": [
      "['foo', 'bar', 'baz', 'qux']\n",
      "[21.42, 'foobar', 3, 4, 'bark', False, 3.14159]\n",
      "foo\n",
      "corge\n",
      "corge\n",
      "bar\n"
     ]
    },
    {
     "data": {
      "text/plain": [
       "['baz', 'qux', 'quux']"
      ]
     },
     "execution_count": 56,
     "metadata": {},
     "output_type": "execute_result"
    }
   ],
   "source": [
    "# Python Lists\n",
    "a = ['foo', 'bar', 'baz', 'qux']\n",
    "print(a)\n",
    "\n",
    "# Lists Are Ordered\n",
    "a = ['foo', 'bar', 'baz', 'qux']\n",
    "b = ['baz', 'qux', 'bar', 'foo']\n",
    "\n",
    "a == b\n",
    "\n",
    "# Lists Can Contain Arbitrary Objects\n",
    "a = [21.42, 'foobar', 3, 4, 'bark', False, 3.14159]\n",
    "\n",
    "print(a)\n",
    "\n",
    "# Lists Elements Can Be Accessed by Index\n",
    "a = ['foo', 'bar', 'baz', 'qux', 'quux', 'corge']\n",
    "\n",
    "print(a[0])\n",
    "print(a[5])\n",
    "\n",
    "print(a[-1])\n",
    "print(a[-5])\n",
    "\n",
    "a[2:5]"
   ]
  },
  {
   "cell_type": "code",
   "execution_count": 58,
   "id": "c362e8fd-13ac-41e8-927d-d3255e9c8dea",
   "metadata": {
    "tags": []
   },
   "outputs": [
    {
     "name": "stdout",
     "output_type": "stream",
     "text": [
      "<class 'list'>\n",
      "[1, 2, 43, 's', 'False', ['b', 300, 'False'], 4.6, 2, ['foo', 'bar', 'baz', 'qux', 'quux', 'corge'], 'Py', 'thon']\n",
      "s\n",
      "['b', 300, 'False']\n",
      "2\n",
      "['foo', 'bar', 'baz', 'qux', 'quux', 'corge']\n",
      "[2, 43, 's', 'False']\n",
      "[2, 43, 's', 'False', ['b', 300, 'False']]\n",
      "[1, 2, 43, 's', 'False', ['b', 300, 'False'], 4.6, 2, ['foo', 'bar', 'baz', 'qux', 'quux', 'corge'], 'Py', 'thon', 'Python', 'KS19', 'assoyyy']\n",
      "['Python', 'KS19', 'assoyyy', 'Python', 'KS19', 'assoyyy', 'Python', 'KS19', 'assoyyy']\n",
      "11\n",
      "assoyyy\n",
      "KS19\n",
      "[1, 2, 43, 's', 'False', ['b', 300, 'False'], 4.6, 2, ['Python', 'KS19', 'assoyyy'], 'Py', 'thon']\n",
      "[1, 2, 43, 's', 'False', ['b', 300, 'False'], 4.6, 2, ['Python', 'KS19', 'assoyyy'], 'udah malem', 'thon']\n",
      "[1.5, 2.1, 's', 'False', ['b', 300, 'False'], 4.6, 2, ['Python', 'KS19', 'assoyyy'], 'udah malem', 'thon']\n"
     ]
    }
   ],
   "source": [
    "#index ke 0 1  2   3    4            5           6    7   8  9  10\n",
    "daftar = [1,2,43,'s', 'False', ['b', 300, 'False'], 4.6, 1 + 1, a, q, w]\n",
    "#index minus             -7         -6          -5   -4  -3  -2  -1\n",
    "py = ['Python', 'KS19', 'assoyyy']\n",
    "print(type(daftarn))\n",
    "print(daftar)\n",
    "print(daftar[3])\n",
    "print(daftar[5])\n",
    "\n",
    "print(daftar[7])\n",
    "print(daftar[-3])\n",
    "print(daftar[1:5])\n",
    "print(daftar[1:6])\n",
    "\n",
    "print(daftar + py)\n",
    "print(py * 3)\n",
    "print(len(daftar))\n",
    "print(max(py))\n",
    "print(min(py))\n",
    "\n",
    "daftar[8] = py\n",
    "print(daftar)\n",
    "daftar[-2] = 'udah malem'\n",
    "print(daftar)\n",
    "#del daftar[3]\n",
    "daftar[:3] = [1.5, 2.1]\n",
    "print(daftar)"
   ]
  },
  {
   "cell_type": "code",
   "execution_count": 62,
   "id": "2e2dcd3b-7398-4dec-931b-6c748f990ead",
   "metadata": {
    "tags": []
   },
   "outputs": [
    {
     "name": "stdout",
     "output_type": "stream",
     "text": [
      "['foo', 'bar', 'baz', 'qux', 'quux', 'corge']\n",
      "['foo', 'bar', 15, 'qux', 21, 'corge']\n",
      "['foo', 'bar', 15, 21, 'corge']\n",
      "['bar', 'baz', 'qux']\n",
      "['foo', 1.1, 2.2, 3.3, 4.4, 5.5, 'quux', 'corge']\n"
     ]
    }
   ],
   "source": [
    "# Modifying a Single List Value\n",
    "a = ['foo', 'bar', 'baz', 'qux', 'quux', 'corge']\n",
    "\n",
    "print(a)\n",
    "\n",
    "a[2] = 15\n",
    "a[-2] = 21\n",
    "\n",
    "print(a)\n",
    "\n",
    "# sebuah item dlm list bisa dihapus pakai del\n",
    "del a[3]\n",
    "print(a)\n",
    "\n",
    "# mengubah beberapa item dlm list sekaligus\n",
    "a = ['foo', 'bar', 'baz', 'qux', 'quux', 'corge']\n",
    "\n",
    "print(a[1:4])\n",
    "\n",
    "a[1:4] = [1.1, 2.2, 3.3, 4.4, 5.5]\n",
    "\n",
    "print(a)"
   ]
  },
  {
   "cell_type": "code",
   "execution_count": 72,
   "id": "0a66d9fc-0c78-4d68-a309-8ab3f365cc40",
   "metadata": {
    "tags": []
   },
   "outputs": [
    {
     "name": "stdout",
     "output_type": "stream",
     "text": [
      "('foo', 'bar', 'baz', 'qux', 'quux', 'corge')\n",
      "foo\n",
      "corge\n",
      "foo\n"
     ]
    },
    {
     "data": {
      "text/plain": [
       "'qux'"
      ]
     },
     "execution_count": 72,
     "metadata": {},
     "output_type": "execute_result"
    }
   ],
   "source": [
    "# Python Tuples\n",
    "t = ('foo', 'bar', 'baz', 'qux', 'quux', 'corge')\n",
    "\n",
    "print(t)\n",
    "print(t[0])\n",
    "print(t[-1])\n",
    "\n",
    "# packing and unpacking\n",
    "(s1, s2, s3, s4) = ('foo', 'bar', 'baz', 'qux')\n",
    "\n",
    "print(s1)\n",
    "s2\n",
    "s3\n",
    "s4"
   ]
  },
  {
   "cell_type": "code",
   "execution_count": 75,
   "id": "38f7e5ba-6cc3-45bb-800b-b67335dcc0ed",
   "metadata": {
    "tags": []
   },
   "outputs": [
    {
     "name": "stdout",
     "output_type": "stream",
     "text": [
      "<class 'tuple'>\n"
     ]
    }
   ],
   "source": [
    "tapel = (1,2,43, 'a', True, ['b', 300, False], 4.6, 1+1, a, q, w)\n",
    "print(type(tapel))"
   ]
  },
  {
   "cell_type": "code",
   "execution_count": 83,
   "id": "7487b177-ca03-47eb-bd84-f6ef237f7814",
   "metadata": {
    "tags": []
   },
   "outputs": [
    {
     "name": "stdout",
     "output_type": "stream",
     "text": [
      "<class 'dict'>\n",
      "what\n",
      "{'apa': 'what', 'siapa': 'who', 'bagaimana': 'how', 'kapan': 'when'}\n",
      "{'siapa': 'who', 'bagaimana': 'how', 'kapan': 'when'}\n",
      "{}\n"
     ]
    }
   ],
   "source": [
    "# Python Dictionary\n",
    "kamus = {'apa':'what', 'siapa':'who', 'bagaimana':'how'}\n",
    "\n",
    "print(type(kamus))\n",
    "print(kamus['apa'])\n",
    "kamus['kapan'] = 'when'\n",
    "print(kamus)\n",
    "del kamus['apa']\n",
    "print(kamus)\n",
    "kamus.clear()\n",
    "print(kamus)"
   ]
  },
  {
   "cell_type": "code",
   "execution_count": 92,
   "id": "de93677d-c7f5-4f7a-8ff9-7cec2ca3e4aa",
   "metadata": {
    "tags": []
   },
   "outputs": [
    {
     "name": "stdout",
     "output_type": "stream",
     "text": [
      "{'kota': ['madagascar', 'madinah', 'mekkah'], 'jalan': 'situ baru', 'nomor rumah': 10, 'pohon': ['cendana', 'mahoni', 'beringin'], 'akses': {'KRL': 'bisa', 'TJ': {'bisa': 'tapi susah'}, 'ojol': 'tidak'}}\n",
      "mekkah\n",
      "{'bisa': 'tapi susah'}\n"
     ]
    }
   ],
   "source": [
    "alamat = {}\n",
    "\n",
    "alamat['kota'] = ['madagascar', 'madinah', 'mekkah']\n",
    "alamat['jalan'] = 'situ baru'\n",
    "alamat['nomor rumah'] = 10\n",
    "alamat['pohon'] = ['cendana', 'mahoni', 'beringin']\n",
    "alamat['akses'] = {'KRL':'bisa', 'TJ':{'bisa':'tapi susah'}, 'ojol':'tidak'}\n",
    "\n",
    "print(alamat)\n",
    "print(alamat['kota'][2])\n",
    "print(alamat['akses']['TJ'])"
   ]
  },
  {
   "cell_type": "code",
   "execution_count": 93,
   "id": "8e0e2d7d-c3dd-4e6d-bc83-0f44232fc54e",
   "metadata": {
    "tags": []
   },
   "outputs": [
    {
     "name": "stdout",
     "output_type": "stream",
     "text": [
      "dict_items([('a', 10), ('b', 20), ('c', 30)])\n",
      "dict_keys(['a', 'b', 'c'])\n",
      "dict_values([10, 20, 30])\n"
     ]
    }
   ],
   "source": [
    "# Build-in Methods\n",
    "d = {'a':10, 'b':20, 'c':30}\n",
    "\n",
    "print(d.items()) #items\n",
    "print(d.keys()) #keys\n",
    "print(d.values()) #values"
   ]
  },
  {
   "cell_type": "code",
   "execution_count": 95,
   "id": "cc14303a-1312-4225-8236-16c9fcc8fcd7",
   "metadata": {
    "tags": []
   },
   "outputs": [
    {
     "data": {
      "text/plain": [
       "True"
      ]
     },
     "execution_count": 95,
     "metadata": {},
     "output_type": "execute_result"
    }
   ],
   "source": [
    "person1_age = 21\n",
    "person2_age = 15\n",
    "person3_age = 55\n",
    "\n",
    "some_is_of_working_age = (\n",
    "    (person1_age >= 18 and person1_age <= 65)\n",
    "    or (person2_age >= 18 and person2_age <= 65)\n",
    "    or (person3_age >= 18 and person3_age <= 65))\n",
    "some_is_of_working_age"
   ]
  }
 ],
 "metadata": {
  "kernelspec": {
   "display_name": "Python 3 (ipykernel)",
   "language": "python",
   "name": "python3"
  },
  "language_info": {
   "codemirror_mode": {
    "name": "ipython",
    "version": 3
   },
   "file_extension": ".py",
   "mimetype": "text/x-python",
   "name": "python",
   "nbconvert_exporter": "python",
   "pygments_lexer": "ipython3",
   "version": "3.11.4"
  }
 },
 "nbformat": 4,
 "nbformat_minor": 5
}
