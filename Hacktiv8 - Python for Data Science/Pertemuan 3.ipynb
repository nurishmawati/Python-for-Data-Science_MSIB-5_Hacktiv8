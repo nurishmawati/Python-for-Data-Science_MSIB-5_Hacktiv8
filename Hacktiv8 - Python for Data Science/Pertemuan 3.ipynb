{
 "cells": [
  {
   "cell_type": "code",
   "execution_count": 1,
   "id": "f3d62e47-0c39-4a70-9c1f-4a0199012e49",
   "metadata": {
    "tags": []
   },
   "outputs": [],
   "source": [
    "def halo(b):\n",
    "    \"function ini akan menyapa kamu yang sedang sedih\"\n",
    "    a = f'halo {b} masyarakat yang sedang sedih'\n",
    "    return a"
   ]
  },
  {
   "cell_type": "code",
   "execution_count": 2,
   "id": "d5edb08c-a526-4cd0-a5d1-94b1d748292e",
   "metadata": {
    "tags": []
   },
   "outputs": [
    {
     "data": {
      "text/plain": [
       "'halo ishma masyarakat yang sedang sedih'"
      ]
     },
     "execution_count": 2,
     "metadata": {},
     "output_type": "execute_result"
    }
   ],
   "source": [
    "halo('ishma')"
   ]
  },
  {
   "cell_type": "code",
   "execution_count": 3,
   "id": "52b6a759-247b-4322-8d43-1af67fc606b5",
   "metadata": {
    "tags": []
   },
   "outputs": [
    {
     "name": "stdout",
     "output_type": "stream",
     "text": [
      "halo halo\n",
      "halo halohalo halohalo halo\n"
     ]
    }
   ],
   "source": [
    "def printme(str):\n",
    "    print(str)\n",
    "    print(str*3)\n",
    "    return\n",
    "\n",
    "printme('halo halo')"
   ]
  },
  {
   "cell_type": "code",
   "execution_count": 4,
   "id": "ccf3d47d-fa70-416a-9def-8eebdefa7bad",
   "metadata": {
    "tags": []
   },
   "outputs": [
    {
     "name": "stdout",
     "output_type": "stream",
     "text": [
      "halo\n",
      "halohalohalo\n"
     ]
    }
   ],
   "source": [
    "def printme(str, angka = 9):\n",
    "    print(str)\n",
    "    print(str*3)\n",
    "    return\n",
    "\n",
    "printme(angka = 11, str = 'halo')"
   ]
  },
  {
   "cell_type": "code",
   "execution_count": 5,
   "id": "12133b87-dc86-4355-a1d4-5091eab1f7f3",
   "metadata": {
    "tags": []
   },
   "outputs": [
    {
     "name": "stdout",
     "output_type": "stream",
     "text": [
      "penjumlahan dari 1 dan 2 adalah\n"
     ]
    },
    {
     "data": {
      "text/plain": [
       "3"
      ]
     },
     "execution_count": 5,
     "metadata": {},
     "output_type": "execute_result"
    }
   ],
   "source": [
    "def jumlah(n1, n2):\n",
    "    print(f\"penjumlahan dari {n1} dan {n2} adalah\")\n",
    "    return n1 + n2\n",
    "\n",
    "jumlah(1,2)"
   ]
  },
  {
   "cell_type": "code",
   "execution_count": 6,
   "id": "237c409b-1c04-46ce-b33d-c33c8b0f18ec",
   "metadata": {},
   "outputs": [
    {
     "name": "stdout",
     "output_type": "stream",
     "text": [
      "3\n"
     ]
    }
   ],
   "source": [
    "n1 = 1\n",
    "n2 = 2\n",
    "\n",
    "a = lambda n1, n2: n1 + n2\n",
    "print(a(1,2))"
   ]
  },
  {
   "cell_type": "code",
   "execution_count": 7,
   "id": "99ad13ab-d4a9-4425-bc69-4a1ffb056a23",
   "metadata": {
    "tags": []
   },
   "outputs": [
    {
     "ename": "SyntaxError",
     "evalue": "incomplete input (330906184.py, line 7)",
     "output_type": "error",
     "traceback": [
      "\u001b[1;36m  Cell \u001b[1;32mIn[7], line 7\u001b[1;36m\u001b[0m\n\u001b[1;33m    printme(\"Again second call to the same function\"\u001b[0m\n\u001b[1;37m                                                    ^\u001b[0m\n\u001b[1;31mSyntaxError\u001b[0m\u001b[1;31m:\u001b[0m incomplete input\n"
     ]
    }
   ],
   "source": [
    "def printme(str):\n",
    "    \"This prints a passed string into this function\"\n",
    "    print(str)\n",
    "    return;\n",
    "\n",
    "printme(\"I'm first call to user defined function!\")\n",
    "printme(\"Again second call to the same function\""
   ]
  },
  {
   "cell_type": "code",
   "execution_count": 8,
   "id": "19641e7a-9a25-46b2-92cf-17b1d7a6273b",
   "metadata": {
    "tags": []
   },
   "outputs": [
    {
     "name": "stdout",
     "output_type": "stream",
     "text": [
      "Values inside the function:  [10, 20, 30, [1, 2, 3, 4]]\n",
      "Values outside the function:  [10, 20, 30, [1, 2, 3, 4]]\n"
     ]
    }
   ],
   "source": [
    "# Function definition is here\n",
    "def changeme(mylist):\n",
    "    \"This changes a passes list into this function\"\n",
    "    mylist.append([1,2,3,4]);\n",
    "    print(\"Values inside the function: \", mylist)\n",
    "    return\n",
    "\n",
    "mylist = [10,20,30];\n",
    "changeme(mylist);\n",
    "print(\"Values outside the function: \", mylist)"
   ]
  },
  {
   "cell_type": "code",
   "execution_count": 9,
   "id": "9e12ecbb-94a3-42bb-b47e-e21f0a63a21e",
   "metadata": {
    "tags": []
   },
   "outputs": [
    {
     "name": "stdout",
     "output_type": "stream",
     "text": [
      "Values inside the function:  [1, 2, 3, 4]\n",
      "Values outside the function:  [10, 20, 30]\n"
     ]
    }
   ],
   "source": [
    "# Function definition is here\n",
    "def changeme(mylist):\n",
    "    \"This changes a passed list into this function\"\n",
    "    mylist = [1,2,3,4]; # this would assig new reference in mylist\n",
    "    print(\"Values inside the function: \", mylist)\n",
    "    return\n",
    "\n",
    "# Now you can call changeme function\n",
    "mylist = [10,20,30];\n",
    "changeme(mylist);\n",
    "print(\"Values outside the function: \", mylist)"
   ]
  },
  {
   "cell_type": "code",
   "execution_count": 10,
   "id": "301db55d-ef26-454c-9b45-76df6aff4ca0",
   "metadata": {
    "tags": []
   },
   "outputs": [
    {
     "name": "stdout",
     "output_type": "stream",
     "text": [
      "Name:  Hactiv8\n",
      "Age:  10\n"
     ]
    }
   ],
   "source": [
    "# Function definition is here\n",
    "def printinfo(name, age):\n",
    "    \"This prints a passed info into this function\"\n",
    "    print(\"Name: \", name)\n",
    "    print(\"Age: \", age)\n",
    "    return;\n",
    "\n",
    "# Now you call printinfo function\n",
    "a = \"Hactiv8\"\n",
    "printinfo(age=10, name=a)"
   ]
  },
  {
   "cell_type": "code",
   "execution_count": 11,
   "id": "7ab364ae-b6ed-4f7e-809a-d2a632be0a9a",
   "metadata": {
    "tags": []
   },
   "outputs": [
    {
     "name": "stdout",
     "output_type": "stream",
     "text": [
      "Name:  Nur\n",
      "Age:  10\n",
      "Name:  Ishma\n",
      "Age:  16\n"
     ]
    }
   ],
   "source": [
    "# Function definition is here\n",
    "def printinfo(name, age=16):\n",
    "    \"This prints a passed info into this function\"\n",
    "    print(\"Name: \", name)\n",
    "    print(\"Age: \", age)\n",
    "    return;\n",
    "\n",
    "# Now you call printinfo function\n",
    "printinfo(age=10, name=\"Nur\")\n",
    "printinfo(name=\"Ishma\")"
   ]
  },
  {
   "cell_type": "code",
   "execution_count": 12,
   "id": "235bcd8f-2105-4b8a-b2da-8399d78a9895",
   "metadata": {
    "tags": []
   },
   "outputs": [
    {
     "name": "stdout",
     "output_type": "stream",
     "text": [
      "Hasilnya adalah:\n",
      "16\n",
      "Hasilnya adalah:\n",
      "26\n",
      "36\n",
      "46\n",
      "a\n",
      "why\n"
     ]
    }
   ],
   "source": [
    "# Function definition is here\n",
    "def printangka(n1, *vartuple):\n",
    "    \"This print a variable passed arguments\"\n",
    "    print(\"Hasilnya adalah:\")\n",
    "    print(n1)\n",
    "    for var in vartuple:\n",
    "        print(var)\n",
    "    return;\n",
    "\n",
    "# Now you can call printangka function\n",
    "printangka(16)\n",
    "printangka(26,36,46,\"a\", \"why\")"
   ]
  },
  {
   "cell_type": "code",
   "execution_count": 13,
   "id": "291a7a1d-bc87-4bea-820c-686d777ac425",
   "metadata": {
    "tags": []
   },
   "outputs": [
    {
     "name": "stdout",
     "output_type": "stream",
     "text": [
      "Total Nilai:  None\n",
      "Total Nilai:  None\n"
     ]
    }
   ],
   "source": [
    "# The Anonymous Functions\n",
    "# Function definition is here\n",
    "sum = lambda s1, s2: s1+s2;\n",
    "\n",
    "def sum(s1, s2):\n",
    "    s1+s2\n",
    "\n",
    "# Now you can call sum as a function\n",
    "print(\"Total Nilai: \", sum(15,25))\n",
    "print(\"Total Nilai: \", sum(10,10))"
   ]
  },
  {
   "cell_type": "code",
   "execution_count": 14,
   "id": "c714c2c5-31e5-44f6-a376-3ca4002fcc6b",
   "metadata": {
    "tags": []
   },
   "outputs": [
    {
     "name": "stdout",
     "output_type": "stream",
     "text": [
      "Penjumlahan dari 2 dan 2 adalah 4\n",
      "3\n"
     ]
    }
   ],
   "source": [
    "def jumlah(n1,n2):\n",
    "    print(f\"Penjumlahan dari {n1} dan {n2} adalah {n1+n2}\")\n",
    "    #return n1+n2\n",
    "\n",
    "#print(jumlah(2,2))\n",
    "jumlah(2,2)\n",
    "\n",
    "n1 = 1\n",
    "n2 = 2\n",
    "\n",
    "a = lambda n1, n2: n1+n2\n",
    "print(a(1,2))"
   ]
  },
  {
   "cell_type": "code",
   "execution_count": 15,
   "id": "ad0c5935-b0d2-4c94-b58d-5aa40f8a6c4e",
   "metadata": {
    "tags": []
   },
   "outputs": [
    {
     "name": "stdout",
     "output_type": "stream",
     "text": [
      "variabel total di dalam function: 30\n",
      "variabel total di luar function: 0\n"
     ]
    }
   ],
   "source": [
    "total = 0\n",
    "\n",
    "def jumlah(arg1, arg2):\n",
    "    \n",
    "    total = arg1 + arg2\n",
    "    print(\"variabel total di dalam function:\", total)\n",
    "    return total\n",
    "\n",
    "jumlah(10,20)\n",
    "print(\"variabel total di luar function:\", total)"
   ]
  },
  {
   "cell_type": "code",
   "execution_count": 16,
   "id": "93ac0da7-935e-4520-a1e1-0c58fa075d79",
   "metadata": {
    "tags": []
   },
   "outputs": [
    {
     "name": "stdout",
     "output_type": "stream",
     "text": [
      "40\n",
      "30\n"
     ]
    }
   ],
   "source": [
    "jumlahKucing = 30\n",
    "\n",
    "def jumlahHewan():\n",
    "    jumlahAnjing = 30\n",
    "    jumlahKucing = 10\n",
    "    return jumlahAnjing+jumlahKucing\n",
    "\n",
    "print(jumlahHewan())\n",
    "print(jumlahKucing)"
   ]
  },
  {
   "cell_type": "code",
   "execution_count": 17,
   "id": "1fb473ae-c55d-44ef-9c36-ad080fe6f965",
   "metadata": {
    "tags": []
   },
   "outputs": [
    {
     "name": "stdout",
     "output_type": "stream",
     "text": [
      "Hacktiv8 Python\n",
      "[100, 200, 300]\n",
      "arg = ini argumennya\n"
     ]
    },
    {
     "data": {
      "text/plain": [
       "<mdl.Foo at 0x2582ee68850>"
      ]
     },
     "execution_count": 17,
     "metadata": {},
     "output_type": "execute_result"
    }
   ],
   "source": [
    "import mdl\n",
    "\n",
    "print(mdl.p)\n",
    "print(mdl.a)\n",
    "mdl.foo('ini argumennya')\n",
    "x = mdl.Foo()\n",
    "x"
   ]
  },
  {
   "cell_type": "code",
   "execution_count": 18,
   "id": "cf32b490-79a6-4962-9986-c1b00dcefa82",
   "metadata": {
    "tags": []
   },
   "outputs": [
    {
     "data": {
      "text/plain": [
       "['C:\\\\Users\\\\Administrator\\\\Documents\\\\Hacktiv8 - Python for Data Science',\n",
       " 'C:\\\\ProgramData\\\\anaconda3\\\\python311.zip',\n",
       " 'C:\\\\ProgramData\\\\anaconda3\\\\DLLs',\n",
       " 'C:\\\\ProgramData\\\\anaconda3\\\\Lib',\n",
       " 'C:\\\\ProgramData\\\\anaconda3',\n",
       " '',\n",
       " 'C:\\\\ProgramData\\\\anaconda3\\\\Lib\\\\site-packages',\n",
       " 'C:\\\\ProgramData\\\\anaconda3\\\\Lib\\\\site-packages\\\\win32',\n",
       " 'C:\\\\ProgramData\\\\anaconda3\\\\Lib\\\\site-packages\\\\win32\\\\lib',\n",
       " 'C:\\\\ProgramData\\\\anaconda3\\\\Lib\\\\site-packages\\\\Pythonwin']"
      ]
     },
     "execution_count": 18,
     "metadata": {},
     "output_type": "execute_result"
    }
   ],
   "source": [
    "import sys\n",
    "sys.path"
   ]
  },
  {
   "cell_type": "code",
   "execution_count": 19,
   "id": "4674205c-6771-44f3-b6de-ce06a5c93987",
   "metadata": {
    "tags": []
   },
   "outputs": [],
   "source": [
    "p = 10"
   ]
  },
  {
   "cell_type": "code",
   "execution_count": 20,
   "id": "c906c115-6501-43de-97d8-480370c20af0",
   "metadata": {
    "tags": []
   },
   "outputs": [
    {
     "data": {
      "text/plain": [
       "'Hacktiv8 Python'"
      ]
     },
     "execution_count": 20,
     "metadata": {},
     "output_type": "execute_result"
    }
   ],
   "source": [
    "from mdl import p\n",
    "p"
   ]
  },
  {
   "cell_type": "code",
   "execution_count": 21,
   "id": "9989e85a-a4ac-49d4-9b9c-10751e4a1f73",
   "metadata": {
    "tags": []
   },
   "outputs": [
    {
     "data": {
      "text/plain": [
       "'Hacktiv8 Python'"
      ]
     },
     "execution_count": 21,
     "metadata": {},
     "output_type": "execute_result"
    }
   ],
   "source": [
    "p"
   ]
  },
  {
   "cell_type": "code",
   "execution_count": 22,
   "id": "d9b68020-8bde-4c37-9027-e948f8625447",
   "metadata": {
    "tags": []
   },
   "outputs": [
    {
     "name": "stdout",
     "output_type": "stream",
     "text": [
      "Hacktiv8 Python\n",
      "[100, 200, 300]\n",
      "arg = 1,2,3\n"
     ]
    },
    {
     "data": {
      "text/plain": [
       "<mdl.Foo at 0x2582ed7a690>"
      ]
     },
     "execution_count": 22,
     "metadata": {},
     "output_type": "execute_result"
    }
   ],
   "source": [
    "from mdl import *\n",
    "print(p)\n",
    "print(a)\n",
    "foo('1,2,3')\n",
    "Foo()"
   ]
  },
  {
   "cell_type": "code",
   "execution_count": 23,
   "id": "44d2b801-16d0-4359-b063-2bdfa2034791",
   "metadata": {
    "tags": []
   },
   "outputs": [
    {
     "name": "stdout",
     "output_type": "stream",
     "text": [
      "Hacktiv8 Python\n",
      "Hacktiv8 Python\n"
     ]
    }
   ],
   "source": [
    "from mdl import p as stri\n",
    "print(p)\n",
    "print(stri)"
   ]
  },
  {
   "cell_type": "code",
   "execution_count": 24,
   "id": "ed0f9bd4-464d-430f-8666-495c4ced48f2",
   "metadata": {
    "tags": []
   },
   "outputs": [],
   "source": [
    "import pandas as pd\n",
    "import numpy as np\n",
    "import matplotlib.pyplot as plt"
   ]
  },
  {
   "cell_type": "code",
   "execution_count": 25,
   "id": "d220e1a6-bde1-4df8-8da9-1dce3f24ef35",
   "metadata": {
    "tags": []
   },
   "outputs": [
    {
     "name": "stdout",
     "output_type": "stream",
     "text": [
      "[100, 200, 300]\n"
     ]
    }
   ],
   "source": [
    "def coba():\n",
    "    from mdl import a\n",
    "    print(a)\n",
    "    \n",
    "coba()"
   ]
  },
  {
   "cell_type": "code",
   "execution_count": 26,
   "id": "ce71bba7-6193-422c-a186-fe7708e1f08a",
   "metadata": {
    "tags": []
   },
   "outputs": [
    {
     "data": {
      "text/plain": [
       "'Hacktiv8 Python'"
      ]
     },
     "execution_count": 26,
     "metadata": {},
     "output_type": "execute_result"
    }
   ],
   "source": [
    "p"
   ]
  },
  {
   "cell_type": "code",
   "execution_count": 27,
   "id": "7b4017a8-2952-4178-8aa9-507d6da03b33",
   "metadata": {
    "tags": []
   },
   "outputs": [
    {
     "name": "stdout",
     "output_type": "stream",
     "text": [
      "module not found\n"
     ]
    }
   ],
   "source": [
    "try:\n",
    "    import docx\n",
    "except ImportError:\n",
    "    print('module not found')"
   ]
  },
  {
   "cell_type": "code",
   "execution_count": 28,
   "id": "4e9fbdb4-44a2-4157-a613-0336ecf91a33",
   "metadata": {},
   "outputs": [
    {
     "data": {
      "text/plain": [
       "'Hacktiv8 Python'"
      ]
     },
     "execution_count": 28,
     "metadata": {},
     "output_type": "execute_result"
    }
   ],
   "source": [
    "mdl.p"
   ]
  },
  {
   "cell_type": "code",
   "execution_count": 29,
   "id": "af23cf0f",
   "metadata": {},
   "outputs": [
    {
     "ename": "ModuleNotFoundError",
     "evalue": "No module named 'docx'",
     "output_type": "error",
     "traceback": [
      "\u001b[1;31m---------------------------------------------------------------------------\u001b[0m",
      "\u001b[1;31mModuleNotFoundError\u001b[0m                       Traceback (most recent call last)",
      "Cell \u001b[1;32mIn[29], line 1\u001b[0m\n\u001b[1;32m----> 1\u001b[0m \u001b[38;5;28;01mimport\u001b[39;00m \u001b[38;5;21;01mdocx\u001b[39;00m\n",
      "\u001b[1;31mModuleNotFoundError\u001b[0m: No module named 'docx'"
     ]
    }
   ],
   "source": [
    "from mdl import "
   ]
  },
  {
   "cell_type": "code",
   "execution_count": 30,
   "id": "0612e6b2",
   "metadata": {},
   "outputs": [
    {
     "data": {
      "text/plain": [
       "['Foo',\n",
       " 'In',\n",
       " 'Out',\n",
       " '_',\n",
       " '_17',\n",
       " '_18',\n",
       " '_2',\n",
       " '_20',\n",
       " '_21',\n",
       " '_22',\n",
       " '_26',\n",
       " '_28',\n",
       " '_5',\n",
       " '__',\n",
       " '___',\n",
       " '__builtin__',\n",
       " '__builtins__',\n",
       " '__doc__',\n",
       " '__loader__',\n",
       " '__name__',\n",
       " '__package__',\n",
       " '__spec__',\n",
       " '_dh',\n",
       " '_i',\n",
       " '_i1',\n",
       " '_i10',\n",
       " '_i11',\n",
       " '_i12',\n",
       " '_i13',\n",
       " '_i14',\n",
       " '_i15',\n",
       " '_i16',\n",
       " '_i17',\n",
       " '_i18',\n",
       " '_i19',\n",
       " '_i2',\n",
       " '_i20',\n",
       " '_i21',\n",
       " '_i22',\n",
       " '_i23',\n",
       " '_i24',\n",
       " '_i25',\n",
       " '_i26',\n",
       " '_i27',\n",
       " '_i28',\n",
       " '_i29',\n",
       " '_i3',\n",
       " '_i30',\n",
       " '_i4',\n",
       " '_i5',\n",
       " '_i6',\n",
       " '_i7',\n",
       " '_i8',\n",
       " '_i9',\n",
       " '_ih',\n",
       " '_ii',\n",
       " '_iii',\n",
       " '_oh',\n",
       " 'a',\n",
       " 'changeme',\n",
       " 'coba',\n",
       " 'exit',\n",
       " 'foo',\n",
       " 'get_ipython',\n",
       " 'halo',\n",
       " 'jumlah',\n",
       " 'jumlahHewan',\n",
       " 'jumlahKucing',\n",
       " 'mdl',\n",
       " 'mylist',\n",
       " 'n1',\n",
       " 'n2',\n",
       " 'np',\n",
       " 'open',\n",
       " 'p',\n",
       " 'pd',\n",
       " 'plt',\n",
       " 'printangka',\n",
       " 'printinfo',\n",
       " 'printme',\n",
       " 'quit',\n",
       " 'stri',\n",
       " 'sum',\n",
       " 'sys',\n",
       " 'total',\n",
       " 'x']"
      ]
     },
     "execution_count": 30,
     "metadata": {},
     "output_type": "execute_result"
    }
   ],
   "source": [
    "dir()"
   ]
  },
  {
   "cell_type": "code",
   "execution_count": 31,
   "id": "c6fd0a5a",
   "metadata": {},
   "outputs": [],
   "source": [
    "import pandas\n",
    "import numpy\n",
    "import seaborn"
   ]
  },
  {
   "cell_type": "code",
   "execution_count": 32,
   "id": "7259ebf1",
   "metadata": {},
   "outputs": [
    {
     "data": {
      "text/plain": [
       "['Foo',\n",
       " 'In',\n",
       " 'Out',\n",
       " '_',\n",
       " '_17',\n",
       " '_18',\n",
       " '_2',\n",
       " '_20',\n",
       " '_21',\n",
       " '_22',\n",
       " '_26',\n",
       " '_28',\n",
       " '_30',\n",
       " '_5',\n",
       " '__',\n",
       " '___',\n",
       " '__builtin__',\n",
       " '__builtins__',\n",
       " '__doc__',\n",
       " '__loader__',\n",
       " '__name__',\n",
       " '__package__',\n",
       " '__spec__',\n",
       " '_dh',\n",
       " '_i',\n",
       " '_i1',\n",
       " '_i10',\n",
       " '_i11',\n",
       " '_i12',\n",
       " '_i13',\n",
       " '_i14',\n",
       " '_i15',\n",
       " '_i16',\n",
       " '_i17',\n",
       " '_i18',\n",
       " '_i19',\n",
       " '_i2',\n",
       " '_i20',\n",
       " '_i21',\n",
       " '_i22',\n",
       " '_i23',\n",
       " '_i24',\n",
       " '_i25',\n",
       " '_i26',\n",
       " '_i27',\n",
       " '_i28',\n",
       " '_i29',\n",
       " '_i3',\n",
       " '_i30',\n",
       " '_i31',\n",
       " '_i32',\n",
       " '_i4',\n",
       " '_i5',\n",
       " '_i6',\n",
       " '_i7',\n",
       " '_i8',\n",
       " '_i9',\n",
       " '_ih',\n",
       " '_ii',\n",
       " '_iii',\n",
       " '_oh',\n",
       " 'a',\n",
       " 'changeme',\n",
       " 'coba',\n",
       " 'exit',\n",
       " 'foo',\n",
       " 'get_ipython',\n",
       " 'halo',\n",
       " 'jumlah',\n",
       " 'jumlahHewan',\n",
       " 'jumlahKucing',\n",
       " 'mdl',\n",
       " 'mylist',\n",
       " 'n1',\n",
       " 'n2',\n",
       " 'np',\n",
       " 'numpy',\n",
       " 'open',\n",
       " 'p',\n",
       " 'pandas',\n",
       " 'pd',\n",
       " 'plt',\n",
       " 'printangka',\n",
       " 'printinfo',\n",
       " 'printme',\n",
       " 'quit',\n",
       " 'seaborn',\n",
       " 'stri',\n",
       " 'sum',\n",
       " 'sys',\n",
       " 'total',\n",
       " 'x']"
      ]
     },
     "execution_count": 32,
     "metadata": {},
     "output_type": "execute_result"
    }
   ],
   "source": [
    "dir()"
   ]
  },
  {
   "cell_type": "code",
   "execution_count": 33,
   "id": "00f58cdc",
   "metadata": {},
   "outputs": [],
   "source": [
    "import mdl"
   ]
  },
  {
   "cell_type": "code",
   "execution_count": null,
   "id": "94c51e9f",
   "metadata": {},
   "outputs": [],
   "source": [
    "import pkg.mdl"
   ]
  }
 ],
 "metadata": {
  "kernelspec": {
   "display_name": "Python 3 (ipykernel)",
   "language": "python",
   "name": "python3"
  },
  "language_info": {
   "codemirror_mode": {
    "name": "ipython",
    "version": 3
   },
   "file_extension": ".py",
   "mimetype": "text/x-python",
   "name": "python",
   "nbconvert_exporter": "python",
   "pygments_lexer": "ipython3",
   "version": "3.11.4"
  }
 },
 "nbformat": 4,
 "nbformat_minor": 5
}
